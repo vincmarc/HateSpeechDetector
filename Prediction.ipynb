{
 "cells": [
  {
   "cell_type": "markdown",
   "metadata": {},
   "source": [
    "# Prediction\n",
    "\n",
    "\n",
    "In this notebook all the Classification models work on a **<font color=\"red\"> toxic dataset of 30K observations</font>**, drawn from the csv used in the previous notebook.    \n",
    "For this reason, **it's extremely slow (almost 1 day to be run).**  \n",
    "\n",
    "### Table of Contents - 2\n",
    "[4. Prediction (15 pts)](#Prediction)  \n",
    "[4.1 Classification (9 pts)](#Classification)  \n",
    "[4.1.1. Dummy Baseline](#DummyBaseline)  \n",
    "[4.1.2. Logistic Regression](#LogisticRegression)  \n",
    "[4.1.2.1. Logistic Regression with `class_weight`](#LogisticRegression1)  \n",
    "[4.1.2.2. Logistic Regression with L2 Regularization](#LogisticRegression2)  \n",
    "[4.1.2.3. Logistic Regression with Feature selection](#LogisticRegression3)  \n",
    "[4.1.2.3.1. ChiSquared](#chi2)  \n",
    "[4.1.2.3.2. SVD Dimensionality Reduction](#dim)  \n",
    "[4.1.2.4. Best LOGIT Model](#best_SVM)  \n",
    "[4.1.3. Logistic Regression with 2-6 grams features](#logit26)  \n",
    "[4.1.4. Model Selection](#further_model_selection)    \n",
    "[4.1.5. Support Vector Machine](#svm)      \n",
    "[4.1.5.1. Linear SVM with L2 Regularization](#best_params_LSVM)      \n",
    "[4.1.5.2.  Linear SVM with Feature selection](#feature_selection_LSVM)    \n",
    "[4.1.5.2.1. ChiSquared](#chi2_LSVM)    \n",
    "[4.1.5.2.2. Dimensionality Reduction](#SVD_LSVM)    \n",
    "[4.1.5.3. RBF SVM with Penalty and Gamma](#best_params_RSVM)    \n",
    "[4.1.5.4. RBF SVM with Feature selection](#feature_selection_RSVM)  \n",
    "[4.1.5.4.1. ChiSquared](#chi2_RSVM)  \n",
    "[4.1.5.4.2. SVD Dimensionality Reduction](#SVD_RSVM)  \n",
    "[4.1.5.5. Best SVM Model](#best_SVM)  \n",
    "[4.1.6. Multilayer Perceptron](#mlp)    \n",
    "[4.1.6.1. Best parameters](#best_params_mlp)  \n",
    "[4.1.7. MLP with multiple labels as input](#mlp2)    \n",
    "[4.1.8. Convolutional NN](#cnn)    \n",
    "[4.1.9. Best Classifier](#recap)  \n",
    "[4.1.10. Bootstrap sampling significance tests](#boot)  \n"
   ]
  },
  {
   "cell_type": "code",
   "execution_count": 1,
   "metadata": {},
   "outputs": [
    {
     "name": "stderr",
     "output_type": "stream",
     "text": [
      "Using TensorFlow backend.\n"
     ]
    }
   ],
   "source": [
    "import pandas as pd\n",
    "import numpy as np\n",
    "np.set_printoptions(precision=2) \n",
    "import re\n",
    "import json\n",
    "import sys\n",
    "import pickle\n",
    "import random\n",
    "import spacy\n",
    "nlp = spacy.load(\"en_core_web_sm\")\n",
    "import ast\n",
    "\n",
    "from collections import defaultdict, Counter\n",
    "from datetime import datetime\n",
    "from scipy import sparse\n",
    "\n",
    "from sklearn.feature_extraction.text import TfidfVectorizer\n",
    "from sklearn.preprocessing import LabelEncoder\n",
    "from sklearn.metrics import classification_report, f1_score, accuracy_score, precision_score, recall_score\n",
    "from sklearn.dummy import DummyClassifier\n",
    "from sklearn.linear_model import LogisticRegression\n",
    "from sklearn.feature_selection import SelectKBest, chi2\n",
    "from sklearn.decomposition import TruncatedSVD\n",
    "from sklearn.ensemble import RandomForestClassifier\n",
    "from sklearn.svm import LinearSVC\n",
    "from sklearn import svm\n",
    "from sklearn.model_selection import cross_val_score, GridSearchCV\n",
    "from sklearn.naive_bayes import MultinomialNB\n",
    "from sklearn import preprocessing\n",
    "from sklearn import model_selection\n",
    "from sklearn.neural_network import MLPClassifier\n",
    "\n",
    "from matplotlib.legend_handler import HandlerLine2D\n",
    "import matplotlib.pyplot as plt\n",
    "from mpl_toolkits.mplot3d import Axes3D\n",
    "from matplotlib import colors\n",
    "from matplotlib import gridspec\n",
    "import seaborn as sns\n",
    "sns.set_style(\"dark\")\n",
    "\n",
    "from keras.models import Sequential, Model\n",
    "from keras import layers\n",
    "from keras.layers import Input, Embedding, Dropout, Dense, Activation, Conv1D, Flatten, InputLayer\n",
    "from keras.preprocessing import text, sequence \n",
    "from keras.preprocessing.text import Tokenizer\n",
    "from keras.preprocessing.sequence import pad_sequences\n",
    "from keras.utils import to_categorical\n",
    "from keras.layers import Bidirectional, LSTM\n",
    "import os"
   ]
  },
  {
   "cell_type": "code",
   "execution_count": 2,
   "metadata": {},
   "outputs": [],
   "source": [
    "b_dir =os.getcwd()"
   ]
  },
  {
   "cell_type": "markdown",
   "metadata": {},
   "source": [
    "# 4. Prediction (15 pts)\n",
    "<a id=\"Prediction\"></a>"
   ]
  },
  {
   "cell_type": "markdown",
   "metadata": {},
   "source": [
    "# 4.1 Classification (9 pts)\n",
    "<a id=\"Classification\"></a>\n",
    "Build a predictive model of the target label and use appropriate performance metrics. Your predictive analysis needs to involve **all** of the following, summarized in a table:\n",
    "\n",
    "1. a **most-frequent-label** baseline (1 pt);\n",
    "2. a **LogisticRegression** baseline with default parameters and **2-6 gram character TFIDF** features (1 pt);\n",
    "3. the performance of **at least two** more predictive model architecture (2 pts each), including description/justification of the optmization steps taken (2 pts);\n",
    "4. **two bootstrap sampling significance tests** of the performance difference between your best model and each of the two baselines (1 pts).\n",
    "\n",
    "NB: Do make sure that the optimization steps are done on the development split and do *not* include the test split! Training on the test set will be graded 0!\n",
    "\n",
    "****\n",
    "**Dataset:** TOXIC COMMENTS \"data_LABEL3.csv\" &rarr; \"30k_sample.csv\"  \n",
    "We used a sample of the entire dataset, with only 30 thousands observations. The reason behind this choice is that we wanted to rebalance the toxic and the non-toxic comments to obtain better predictions.  \n",
    "\n",
    "Since our goal is to find the best performing classifier, before fitting each model, we did a feature selection.\n",
    "\n",
    "*Disclaimer: the dataset contains text that may be considered profane, vulgar, or offensive.*"
   ]
  },
  {
   "cell_type": "raw",
   "metadata": {},
   "source": [
    "# Create a subset from the original dataset\n",
    "total_dataset=pd.read_csv(os.path.join(b_dir)+\"data_LABEL3.csv\")\n",
    "total_dataset=total_dataset.sort_values(by=[\"toxic\",\"insult\",\"threat\",\"obscene\",\"identity_hate\",\"severe_toxic\"],ascending=False)\n",
    "sample_rebalanced=total_dataset[:30000]\n",
    "sample_rebalanced.to_csv(os.path.join(b_dir)+\"30k_sample.csv\")"
   ]
  },
  {
   "cell_type": "code",
   "execution_count": 3,
   "metadata": {},
   "outputs": [],
   "source": [
    "# Importing dataset\n",
    "data = pd.read_csv(os.path.join(b_dir,\"30k_sample.csv\"))\n",
    "#data.head(2)"
   ]
  },
  {
   "cell_type": "code",
   "execution_count": 4,
   "metadata": {},
   "outputs": [],
   "source": [
    "# FUNCTION DEFINITION: SIGNIFICANCE TEST \n",
    "def bootstrap_sample(system1, system2, gold, samples=1000, score=f1_score, average='micro'):\n",
    "    N = len(gold) # number of instances\n",
    "    \n",
    "    # make sure the two systems have the same number of samples\n",
    "    assert len(system1) == N and len(system2) == N, 'samples have different lengths'\n",
    "\n",
    "    # compute performance score on entire sample\n",
    "    base_score1 = score(gold, system1, average=average)\n",
    "    base_score2 = score(gold, system2, average=average)\n",
    "\n",
    "    # switch systems if system2 is better\n",
    "    if base_score2 > base_score1:\n",
    "        system1, system2 = system2, system1\n",
    "        base_score1, base_score2 = base_score2, base_score1\n",
    "    \n",
    "    # compute the difference\n",
    "    basedelta = base_score1 - base_score2\n",
    "    assert basedelta > 0, 'Wrong system first, system1 needs to be better!'\n",
    "\n",
    "    system1 = np.array(system1)\n",
    "    system2 = np.array(system2)\n",
    "    gold = np.array(gold)\n",
    "\n",
    "    p = 0\n",
    "    deltas = []\n",
    "    for i in range(samples):\n",
    "        # select a subsample, with replacement\n",
    "        sample = np.random.choice(N, size=N, replace=True)\n",
    "\n",
    "        # collect data corresponding to subsample\n",
    "        sample1 = system1[sample]\n",
    "        sample2 = system2[sample]\n",
    "        gold_sample = gold[sample]\n",
    "\n",
    "        # compute scores on subsample\n",
    "        sample_score1 = score(gold_sample, sample1, average=average)\n",
    "        sample_score2 = score(gold_sample, sample2, average=average)\n",
    "        sample_delta = sample_score1 - sample_score2\n",
    "\n",
    "        # check whether the observed sample difference is at least \n",
    "        # twice as large as the base difference\n",
    "        if sample_delta > 2*basedelta:\n",
    "            p += 1\n",
    "        deltas.append(sample_delta)\n",
    "                \n",
    "    return p/samples, deltas\n",
    "\n",
    "\n",
    "def eval_input(model,train,y_train,inputt:list,CV=3):\n",
    "    CV = 3\n",
    "    cv_df = pd.DataFrame(index=range(CV * len(models)))\n",
    "    entries = []\n",
    "    for inp in inputt:\n",
    "        X_train = vectorizer.fit_transform(train[inp])\n",
    "        accuracies = cross_val_score(model, X_train, y_train, scoring='accuracy', cv=CV)\n",
    "        for fold_idx, accuracy in enumerate(accuracies):\n",
    "            entries.append((inp, fold_idx, accuracy))\n",
    "    cv_df = pd.DataFrame(entries, columns=['model_name', 'fold_idx', 'accuracy'])\n",
    "    cv_df.groupby('model_name').accuracy.mean()\n",
    "    cv_fin=cv_df.groupby('model_name')[[\"accuracy\"]].mean().sort_values(by=\"accuracy\",ascending=False)\n",
    "    return cv_fin\n",
    "\n",
    "\n",
    "# FUNCTION DEFINITION: PLOT SCORES TUNING \n",
    "def plot_scores(parameter_list,score_list, xlabel):\n",
    "    line1, = plt.plot(parameter_list, score_list, 'b', label='Dev Score')\n",
    "    plt.legend(handler_map={line1: HandlerLine2D(numpoints=1)})\n",
    "    plt.ylabel('Score')\n",
    "    plt.xlabel(xlabel)\n",
    "    return plt.show()"
   ]
  },
  {
   "cell_type": "code",
   "execution_count": 5,
   "metadata": {},
   "outputs": [
    {
     "name": "stdout",
     "output_type": "stream",
     "text": [
      "18000 6000 6000\n",
      "\n",
      "Classification Outputs are: [0 1]\n",
      "\n",
      "How many negative vs. not_negative comments (entire dataset) ?\n",
      "16110 13890\n",
      "\n",
      "Classes distribution in TRAIN: {1: 0.5388333333333334, 0: 0.46116666666666667}\n",
      "Classes distribution in DEV: {1: 0.5408333333333334, 0: 0.45916666666666667}\n",
      "Classes distribution in TEST: {1: 0.5276666666666666, 0: 0.4723333333333333}\n"
     ]
    }
   ],
   "source": [
    "'''CREATING TRAIN-DEV-TEST SETS:\n",
    "The proportion really depends on the volume of our dataset. If the dataset is very large and we can guarantee \n",
    "that the different sets will have a similar class distribution, then we can also increase the training set\n",
    "while reducing the dev and test sets. To avoid that algorithms memorize patterns, we shuffle the data.\n",
    "'''\n",
    "data = data[data['tokens_ex'].isna() == False]\n",
    "np.random.seed(9)\n",
    "data = data.sample(frac=1)\n",
    "\n",
    "N = len(data)\n",
    "train_size = int(N*0.6)\n",
    "dev_size = int(N*0.2)\n",
    "test_size = int(N*0.2)\n",
    "\n",
    "train = data[:train_size]\n",
    "dev = data[train_size: train_size+dev_size]\n",
    "test = data[train_size+dev_size:]\n",
    "print(len(train), len(dev), len(test))\n",
    "print()\n",
    "#train.head()\n",
    "\n",
    "'''TRANSFORMING LABELS'''\n",
    "target = 'negative'\n",
    "labels2numbers = LabelEncoder()\n",
    "y_train = labels2numbers.fit_transform(train[target])\n",
    "y_dev = labels2numbers.transform(dev[target])\n",
    "y_test = labels2numbers.transform(test[target])\n",
    "print(\"Classification Outputs are: {}\".format(labels2numbers.classes_))\n",
    "\n",
    "print()\n",
    "print(\"How many negative vs. not_negative comments (entire dataset) ?\")\n",
    "print(len(data[data['negative']==1]), len(data[data['negative']==0]))\n",
    "print()\n",
    "\n",
    "'''CLASSES DISTRIBUTION IN THE TEST-DEV-TRAIN DATASETS'''\n",
    "print(\"Classes distribution in TRAIN: {}\".format({labels2numbers.classes_[k]: v/len(y_train) for k, v in Counter(y_train).items()}))\n",
    "print(\"Classes distribution in DEV: {}\".format({labels2numbers.classes_[k]: v/len(y_dev) for k, v in Counter(y_dev).items()}))\n",
    "print(\"Classes distribution in TEST: {}\".format({labels2numbers.classes_[k]: v/len(y_test) for k, v in Counter(y_test).items()}))"
   ]
  },
  {
   "cell_type": "code",
   "execution_count": 6,
   "metadata": {},
   "outputs": [
    {
     "name": "stdout",
     "output_type": "stream",
     "text": [
      "(18000, 3124) (6000, 3124) (6000, 3124)\n"
     ]
    }
   ],
   "source": [
    "# Get the sparse matrix (UNIGRAMS AND BIGRAMS)\n",
    "vectorizer = TfidfVectorizer(ngram_range=(1,2), min_df=0.001, max_df=0.7,analyzer='word')\n",
    "X_train = vectorizer.fit_transform(train['lemmas_ex'])\n",
    "X_dev = vectorizer.transform(dev['lemmas_ex'])\n",
    "X_test = vectorizer.transform(test['lemmas_ex'])\n",
    "print(X_train.shape, X_dev.shape, X_test.shape)\n",
    "\n",
    "# Matrix to store classifier names and correspondent X_train\n",
    "XFILE = []"
   ]
  },
  {
   "cell_type": "markdown",
   "metadata": {},
   "source": [
    "## 4.1.1. Dummy Baseline\n",
    "<a id=\"DummyBaseline\"></a>\n",
    "The first baseline is the dummy classifier.\n",
    "\n",
    "**Best Input:** All inputs produce same result"
   ]
  },
  {
   "cell_type": "code",
   "execution_count": 7,
   "metadata": {},
   "outputs": [
    {
     "name": "stdout",
     "output_type": "stream",
     "text": [
      "              precision    recall  f1-score   support\n",
      "\n",
      "           0       0.00      0.00      0.00      2755\n",
      "           1       0.54      1.00      0.70      3245\n",
      "\n",
      "    accuracy                           0.54      6000\n",
      "   macro avg       0.27      0.50      0.35      6000\n",
      "weighted avg       0.29      0.54      0.38      6000\n",
      "\n"
     ]
    },
    {
     "name": "stderr",
     "output_type": "stream",
     "text": [
      "C:\\Users\\Ospite\\anaconda3\\lib\\site-packages\\sklearn\\metrics\\_classification.py:1272: UndefinedMetricWarning: Precision and F-score are ill-defined and being set to 0.0 in labels with no predicted samples. Use `zero_division` parameter to control this behavior.\n",
      "  _warn_prf(average, modifier, msg_start, len(result))\n"
     ]
    }
   ],
   "source": [
    "np.random.seed(9)\n",
    "dummy = DummyClassifier(strategy='most_frequent')\n",
    "dummy.fit(X_train, y_train)\n",
    "y_hatd_dummy = dummy.predict(X_dev)\n",
    "print(classification_report(y_dev, y_hatd_dummy))\n",
    "XFILE.append((\"dummy\",\"X_train\",X_test))"
   ]
  },
  {
   "cell_type": "markdown",
   "metadata": {},
   "source": [
    "## 4.1.2. Logistic Regression\n",
    "<a id=\"LogisticRegression\"></a>\n",
    "\n",
    "Secondly we moved to the Logistic regression, we started from the plain-vanilla. Once checked which input variable is the best with a CV, we tried to do some improvements with **`class_weight`**, **L2 Regularization** and **Feature Selection**.\n",
    "\n",
    "**Best Input:** `stems_ex`"
   ]
  },
  {
   "cell_type": "code",
   "execution_count": 8,
   "metadata": {},
   "outputs": [
    {
     "name": "stdout",
     "output_type": "stream",
     "text": [
      "stems_ex\n",
      "Wall time: 156 ms\n",
      "              precision    recall  f1-score   support\n",
      "\n",
      "           0       0.86      0.90      0.88      2755\n",
      "           1       0.91      0.87      0.89      3245\n",
      "\n",
      "    accuracy                           0.89      6000\n",
      "   macro avg       0.88      0.89      0.89      6000\n",
      "weighted avg       0.89      0.89      0.89      6000\n",
      "\n"
     ]
    }
   ],
   "source": [
    "np.random.seed(9)\n",
    "Logit = LogisticRegression(n_jobs=-1, multi_class='auto', solver='lbfgs',random_state=9)\n",
    "\n",
    "# Looking for the best input variable\n",
    "models =[\"txt_contract\",\"txt_expanded\",\"tokens_ex\",\"lemmas_ex\",\"stems_ex\",\"lemmas_fw_ex\",\n",
    "         \"tokens_con\",\"lemmas_con\",\"stems_con\",\"lemmas_fw_con\"]\n",
    "cv_fin=eval_input(Logit,train,y_train,inputt=models,CV=3)\n",
    "\n",
    "# Choose the best input variable\n",
    "best_input_logistic=cv_fin.index[0]\n",
    "print(best_input_logistic)\n",
    "\n",
    "X_train1 = vectorizer.fit_transform(train[best_input_logistic])\n",
    "X_dev1 = vectorizer.transform(dev[best_input_logistic])\n",
    "X_test1 = vectorizer.transform(test[best_input_logistic])\n",
    "\n",
    "# Classifier\n",
    "%time Logit.fit(X_train1, y_train)\n",
    "y_hatd_Logit = Logit.predict(X_dev1)\n",
    "print(classification_report(y_dev,y_hatd_Logit))\n",
    "XFILE.append((\"Logit\",\"X_train1\",X_test1))"
   ]
  },
  {
   "cell_type": "markdown",
   "metadata": {},
   "source": [
    "### 4.1.2.1. Logistic Regression with `class_weight`\n",
    "<a id=\"LogisticRegression1\"></a>"
   ]
  },
  {
   "cell_type": "code",
   "execution_count": 9,
   "metadata": {
    "scrolled": true
   },
   "outputs": [
    {
     "name": "stdout",
     "output_type": "stream",
     "text": [
      "Wall time: 124 ms\n",
      "              precision    recall  f1-score   support\n",
      "\n",
      "           0       0.84      0.92      0.88      2755\n",
      "           1       0.92      0.86      0.89      3245\n",
      "\n",
      "    accuracy                           0.88      6000\n",
      "   macro avg       0.88      0.89      0.88      6000\n",
      "weighted avg       0.89      0.88      0.88      6000\n",
      "\n"
     ]
    }
   ],
   "source": [
    "np.random.seed(9)\n",
    "Logit_cw = LogisticRegression(n_jobs=-1, multi_class='auto', solver='lbfgs',class_weight='balanced',random_state=9)\n",
    "%time Logit_cw.fit(X_train1, y_train)\n",
    "y_hatd_Logit_cw = Logit_cw.predict(X_dev1)\n",
    "print(classification_report(y_dev, y_hatd_Logit_cw))\n",
    "XFILE.append((\"Logit_cw\",\"X_train1\",X_test1))"
   ]
  },
  {
   "cell_type": "markdown",
   "metadata": {},
   "source": [
    "### 4.1.2.2. Logistic Regression with L2 Regularization\n",
    "<a id=\"LogisticRegression2\"></a>\n",
    "We then started optimizing the parameters using the dev set. For the range of the c, some specific numbers have been chosen from a broader analysis in order to pinpoint the sweet point of maximization of the model accuracy."
   ]
  },
  {
   "cell_type": "code",
   "execution_count": 10,
   "metadata": {},
   "outputs": [
    {
     "name": "stdout",
     "output_type": "stream",
     "text": [
      "100\n",
      "New best performance: 0.8726666666666667\n",
      "10\n",
      "New best performance: 0.8865\n",
      "5\n",
      "New best performance: 0.887\n",
      "1\n",
      "0.5\n",
      "0.1\n",
      "0.05\n"
     ]
    }
   ],
   "source": [
    "# Choose the regularization parameter lambda (=c)\n",
    "best_c = None\n",
    "best_performance = 0.0\n",
    "sc_1 = []\n",
    "cs = [100, 10, 5, 1, 0.5, 0.1, 0.05]\n",
    "np.random.seed(9)\n",
    "for c in cs:\n",
    "    print(c)\n",
    "    Logit_l2 = LogisticRegression(n_jobs=-1, multi_class='auto', solver='lbfgs',class_weight='balanced',C=c,random_state=9)\n",
    "    Logit_l2.fit(X_train1, y_train)\n",
    "    y_hatd_Logit_l2 = Logit_l2.predict(X_dev1)\n",
    "    score = f1_score(y_dev, y_hatd_Logit_l2, average='micro')\n",
    "    sc_1.append(score)\n",
    "    if score > best_performance:\n",
    "        best_performance = score\n",
    "        best_c = c\n",
    "        print(\"New best performance: {}\".format(score))\n",
    "        \n",
    "    #print(classification_report(y_dev, y_hatd_Logit_l2))\n",
    "    #print()"
   ]
  },
  {
   "cell_type": "code",
   "execution_count": 11,
   "metadata": {},
   "outputs": [
    {
     "data": {
      "image/png": "[encoded data removed]",
      "text/plain": [
       "<Figure size 432x288 with 1 Axes>"
      ]
     },
     "metadata": {},
     "output_type": "display_data"
    }
   ],
   "source": [
    "plot_scores(cs, sc_1, xlabel=\"c - Regularization Parameter\")"
   ]
  },
  {
   "cell_type": "code",
   "execution_count": 12,
   "metadata": {},
   "outputs": [
    {
     "name": "stdout",
     "output_type": "stream",
     "text": [
      "              precision    recall  f1-score   support\n",
      "\n",
      "           0       0.85      0.91      0.88      2755\n",
      "           1       0.92      0.87      0.89      3245\n",
      "\n",
      "    accuracy                           0.89      6000\n",
      "   macro avg       0.89      0.89      0.89      6000\n",
      "weighted avg       0.89      0.89      0.89      6000\n",
      "\n"
     ]
    }
   ],
   "source": [
    "# Choose Best c (class_weight)\n",
    "np.random.seed(9)\n",
    "Logit_L2 = LogisticRegression(n_jobs=-1, multi_class='auto', solver='lbfgs',class_weight='balanced',\n",
    "                              C=best_c,random_state=9)\n",
    "Logit_L2.fit(X_train1, y_train)\n",
    "y_hatd_Logit_L2 = Logit_L2.predict(X_dev1)\n",
    "print(classification_report(y_dev, y_hatd_Logit_L2))\n",
    "XFILE.append((\"Logit_L2\",\"X_train1\",X_test1))"
   ]
  },
  {
   "cell_type": "markdown",
   "metadata": {},
   "source": [
    "### 4.1.2.3. Logistic Regression with Feature selection\n",
    "<a id=\"LogisticRegression3\"></a>\n",
    "We ran a feature selection with Chi squared and SVD to decrease the possibility of overfitting and make the model simplier. \n",
    "#### 4.1.2.3.1. ChiSquared\n",
    "<a id=\"chi2\"></a>"
   ]
  },
  {
   "cell_type": "code",
   "execution_count": 13,
   "metadata": {},
   "outputs": [
    {
     "name": "stdout",
     "output_type": "stream",
     "text": [
      "100\n",
      "New best performance: 0.8331666666666667\n",
      "300\n",
      "New best performance: 0.8656666666666667\n",
      "500\n",
      "New best performance: 0.8765\n",
      "1000\n",
      "New best performance: 0.888\n",
      "1500\n",
      "New best performance: 0.8916666666666667\n",
      "2000\n",
      "New best performance: 0.8963333333333333\n",
      "2500\n"
     ]
    }
   ],
   "source": [
    "# Choose the number of features (=k) according to Chi2\n",
    "sc_2 = []\n",
    "kss = [100, 300, 500, 1000, 1500, 2000, 2500]\n",
    "best_k_chi2 = None\n",
    "best_performance_dm = 0.0\n",
    "np.random.seed(9)\n",
    "for k in kss:\n",
    "    print(k)\n",
    "    selector = SelectKBest(chi2, k=k).fit(X_train1, y_train)\n",
    "    X_train2 = selector.transform(X_train1)\n",
    "    X_dev2 = selector.transform(X_dev1)\n",
    "    Logit_chi2 = LogisticRegression(n_jobs=-1, multi_class='auto', solver='lbfgs', \n",
    "                                    class_weight='balanced',C=best_c,random_state=9)\n",
    "    Logit_chi2.fit(X_train2, y_train)\n",
    "    y_hatd_Logit_chi2 = Logit_chi2.predict(X_dev2)\n",
    "    score = f1_score(y_dev, y_hatd_Logit_chi2, average='micro')\n",
    "    sc_2.append(score)\n",
    "    if score > best_performance_dm:\n",
    "        best_performance_dm = score\n",
    "        best_k_chi2 = k\n",
    "        print(\"New best performance: {}\".format(score))\n",
    "    #print(classification_report(y_dev, y_hatd_Logit_chi2))\n",
    "    #print()"
   ]
  },
  {
   "cell_type": "code",
   "execution_count": 14,
   "metadata": {},
   "outputs": [
    {
     "data": {
      "image/png": "[encoded data removed]",
      "text/plain": [
       "<Figure size 432x288 with 1 Axes>"
      ]
     },
     "metadata": {},
     "output_type": "display_data"
    }
   ],
   "source": [
    "plot_scores(kss, sc_2, xlabel=\"Chi2 - Features Number\")"
   ]
  },
  {
   "cell_type": "code",
   "execution_count": 15,
   "metadata": {},
   "outputs": [
    {
     "name": "stdout",
     "output_type": "stream",
     "text": [
      "              precision    recall  f1-score   support\n",
      "\n",
      "           0       0.86      0.93      0.89      2755\n",
      "           1       0.94      0.87      0.90      3245\n",
      "\n",
      "    accuracy                           0.90      6000\n",
      "   macro avg       0.90      0.90      0.90      6000\n",
      "weighted avg       0.90      0.90      0.90      6000\n",
      "\n"
     ]
    }
   ],
   "source": [
    "# Choose Best k (class_weight and L2Reg)\n",
    "np.random.seed(9)\n",
    "selector = SelectKBest(chi2, k=best_k_chi2).fit(X_train1, y_train)\n",
    "X_train2 = selector.transform(X_train1)\n",
    "X_dev2 = selector.transform(X_dev1)\n",
    "X_test2 = selector.transform(X_test1)\n",
    "\n",
    "Logit_chi2 = LogisticRegression(n_jobs=-1, multi_class='auto', solver='lbfgs', \n",
    "                                    class_weight='balanced',C=best_c,random_state=9)\n",
    "Logit_chi2.fit(X_train2, y_train)\n",
    "y_hatd_Logit_chi2 = Logit_chi2.predict(X_dev2)\n",
    "print(classification_report(y_dev, y_hatd_Logit_chi2))\n",
    "XFILE.append((\"Logit_chi2\",\"X_train2\",X_test2))"
   ]
  },
  {
   "cell_type": "markdown",
   "metadata": {},
   "source": [
    "#### 4.1.2.3.2. SVD Dimensionality Reduction\n",
    "<a id=\"dim\"></a>\n",
    "We didn't see any significant improvement in the performance with SVD reduction."
   ]
  },
  {
   "cell_type": "code",
   "execution_count": 16,
   "metadata": {
    "scrolled": true
   },
   "outputs": [
    {
     "name": "stdout",
     "output_type": "stream",
     "text": [
      "100\n",
      "New best performance: 0.8565\n",
      "300\n",
      "New best performance: 0.8776666666666667\n",
      "500\n",
      "New best performance: 0.8835000000000001\n",
      "1000\n",
      "New best performance: 0.888\n",
      "1500\n",
      "New best performance: 0.8896666666666667\n",
      "2000\n",
      "2500\n"
     ]
    }
   ],
   "source": [
    "# Choose the number of features (=k) according to SVD\n",
    "sc_3 = []\n",
    "ks = [100, 300, 500, 1000, 1500, 2000, 2500]\n",
    "best_k_dim = None\n",
    "best_performance_dm = 0.0\n",
    "np.random.seed(9)\n",
    "\n",
    "for k in ks:\n",
    "    print(k)\n",
    "    svd = TruncatedSVD(n_components=k)\n",
    "    X_train_dim = svd.fit_transform(X_train1)\n",
    "    X_dev_dim = svd.transform(X_dev1) \n",
    "    Logit_dim = LogisticRegression(n_jobs=-1, multi_class='auto', solver='lbfgs', \n",
    "                                    class_weight='balanced',C=best_c,random_state=9)\n",
    "    Logit_dim.fit(X_train_dim, y_train)\n",
    "    y_hatd_Logit_dim = Logit_dim.predict(X_dev_dim)\n",
    "    score = f1_score(y_dev, y_hatd_Logit_dim, average='micro')\n",
    "    sc_3.append(score)\n",
    "    if score > best_performance_dm:\n",
    "        best_performance_dm = score\n",
    "        best_k_dim = k\n",
    "        print(\"New best performance: {}\".format(score))\n",
    "    #print(classification_report(y_dev, y_hatd_Logit_dim))\n",
    "    #print()"
   ]
  },
  {
   "cell_type": "code",
   "execution_count": 17,
   "metadata": {},
   "outputs": [
    {
     "data": {
      "image/png": "[encoded data removed]",
      "text/plain": [
       "<Figure size 432x288 with 1 Axes>"
      ]
     },
     "metadata": {},
     "output_type": "display_data"
    }
   ],
   "source": [
    "plot_scores(ks, sc_3, xlabel=\"SVD - Features Number\")"
   ]
  },
  {
   "cell_type": "code",
   "execution_count": 18,
   "metadata": {
    "scrolled": true
   },
   "outputs": [
    {
     "name": "stdout",
     "output_type": "stream",
     "text": [
      "              precision    recall  f1-score   support\n",
      "\n",
      "           0       0.84      0.92      0.88      2755\n",
      "           1       0.93      0.85      0.89      3245\n",
      "\n",
      "    accuracy                           0.88      6000\n",
      "   macro avg       0.88      0.89      0.88      6000\n",
      "weighted avg       0.89      0.88      0.88      6000\n",
      "\n"
     ]
    }
   ],
   "source": [
    "# Choose Best k (class_weight and L2Reg)\n",
    "np.random.seed(9)\n",
    "svd = TruncatedSVD(n_components=best_k_dim)\n",
    "X_train3 = svd.fit_transform(X_train1)\n",
    "X_dev3 = svd.transform(X_dev1)\n",
    "X_test3 = svd.transform(X_test1)\n",
    "\n",
    "Logit_dim = LogisticRegression(n_jobs=-1, multi_class='auto', solver='lbfgs',class_weight='balanced',random_state=9)\n",
    "Logit_dim.fit(X_train3, y_train)\n",
    "y_hatd_Logit_dim = Logit_dim.predict(X_dev3)\n",
    "print(classification_report(y_dev, y_hatd_Logit_dim))\n",
    "XFILE.append((\"Logit_dim\",\"X_train3\",X_test3))"
   ]
  },
  {
   "cell_type": "markdown",
   "metadata": {},
   "source": [
    "### 4.1.2.4. Best LOGIT Model\n",
    "<a id=\"best_SVM\"></a>\n",
    "\n",
    "**Which is the best LOGIT Model?**   \n",
    "\n",
    "    1. Logit \n",
    "    2. Logit_cw (class_weight)\n",
    "    3. Logit_L2 (c and class_weight)\n",
    "    4. Logit_chi2 (k, c and class_weight)\n",
    "    5. Logit_dim (k, c and class_weight)\n",
    "    \n",
    "Even if our data have been re-balanced, we still use the f1 metric."
   ]
  },
  {
   "cell_type": "code",
   "execution_count": 19,
   "metadata": {},
   "outputs": [
    {
     "data": {
      "text/html": [
       "<div>\n",
       "<style scoped>\n",
       "    .dataframe tbody tr th:only-of-type {\n",
       "        vertical-align: middle;\n",
       "    }\n",
       "\n",
       "    .dataframe tbody tr th {\n",
       "        vertical-align: top;\n",
       "    }\n",
       "\n",
       "    .dataframe thead th {\n",
       "        text-align: right;\n",
       "    }\n",
       "</style>\n",
       "<table border=\"1\" class=\"dataframe\">\n",
       "  <thead>\n",
       "    <tr style=\"text-align: right;\">\n",
       "      <th></th>\n",
       "      <th>model</th>\n",
       "      <th>name</th>\n",
       "      <th>score</th>\n",
       "      <th>y_hatd</th>\n",
       "    </tr>\n",
       "  </thead>\n",
       "  <tbody>\n",
       "    <tr>\n",
       "      <th>0</th>\n",
       "      <td>LogisticRegression(C=5, class_weight='balanced...</td>\n",
       "      <td>Logit_chi2</td>\n",
       "      <td>0.896333</td>\n",
       "      <td>[1, 1, 0, 1, 0, 1, 1, 1, 1, 0, 0, 0, 1, 1, 0, ...</td>\n",
       "    </tr>\n",
       "    <tr>\n",
       "      <th>1</th>\n",
       "      <td>LogisticRegression(C=5, class_weight='balanced...</td>\n",
       "      <td>Logit_L2</td>\n",
       "      <td>0.887000</td>\n",
       "      <td>[1, 1, 0, 1, 0, 1, 1, 1, 1, 0, 0, 0, 1, 1, 0, ...</td>\n",
       "    </tr>\n",
       "    <tr>\n",
       "      <th>2</th>\n",
       "      <td>LogisticRegression(C=1.0, class_weight=None, d...</td>\n",
       "      <td>Logit</td>\n",
       "      <td>0.885667</td>\n",
       "      <td>[1, 1, 0, 1, 0, 1, 1, 1, 1, 0, 0, 0, 1, 1, 0, ...</td>\n",
       "    </tr>\n",
       "    <tr>\n",
       "      <th>3</th>\n",
       "      <td>LogisticRegression(C=1.0, class_weight='balanc...</td>\n",
       "      <td>Logit_cw</td>\n",
       "      <td>0.884333</td>\n",
       "      <td>[1, 1, 0, 1, 0, 1, 1, 1, 1, 0, 0, 0, 1, 1, 0, ...</td>\n",
       "    </tr>\n",
       "    <tr>\n",
       "      <th>4</th>\n",
       "      <td>LogisticRegression(C=1.0, class_weight='balanc...</td>\n",
       "      <td>Logit_dim</td>\n",
       "      <td>0.883667</td>\n",
       "      <td>[1, 1, 0, 1, 0, 1, 1, 1, 1, 0, 0, 0, 1, 1, 0, ...</td>\n",
       "    </tr>\n",
       "  </tbody>\n",
       "</table>\n",
       "</div>"
      ],
      "text/plain": [
       "                                               model        name     score  \\\n",
       "0  LogisticRegression(C=5, class_weight='balanced...  Logit_chi2  0.896333   \n",
       "1  LogisticRegression(C=5, class_weight='balanced...    Logit_L2  0.887000   \n",
       "2  LogisticRegression(C=1.0, class_weight=None, d...       Logit  0.885667   \n",
       "3  LogisticRegression(C=1.0, class_weight='balanc...    Logit_cw  0.884333   \n",
       "4  LogisticRegression(C=1.0, class_weight='balanc...   Logit_dim  0.883667   \n",
       "\n",
       "                                              y_hatd  \n",
       "0  [1, 1, 0, 1, 0, 1, 1, 1, 1, 0, 0, 0, 1, 1, 0, ...  \n",
       "1  [1, 1, 0, 1, 0, 1, 1, 1, 1, 0, 0, 0, 1, 1, 0, ...  \n",
       "2  [1, 1, 0, 1, 0, 1, 1, 1, 1, 0, 0, 0, 1, 1, 0, ...  \n",
       "3  [1, 1, 0, 1, 0, 1, 1, 1, 1, 0, 0, 0, 1, 1, 0, ...  \n",
       "4  [1, 1, 0, 1, 0, 1, 1, 1, 1, 0, 0, 0, 1, 1, 0, ...  "
      ]
     },
     "metadata": {},
     "output_type": "display_data"
    },
    {
     "name": "stdout",
     "output_type": "stream",
     "text": [
      "Best LOGIT Model: Logit_chi2, 0.8963333333333333\n"
     ]
    }
   ],
   "source": [
    "# Compare all LOGIT Models with 1-2 grams\n",
    "score_logit=[]\n",
    "label_logit=[Logit,Logit_cw,Logit_L2,Logit_chi2,Logit_dim]\n",
    "names_logit='Logit,Logit_cw,Logit_L2,Logit_chi2,Logit_dim'.split(\",\")\n",
    "LOGITS=[y_hatd_Logit,y_hatd_Logit_cw,y_hatd_Logit_L2,y_hatd_Logit_chi2,y_hatd_Logit_dim]\n",
    "\n",
    "for i in range(len(LOGITS)):\n",
    "    score_logit.append((label_logit[i],names_logit[i],f1_score(y_dev,LOGITS[i],average='micro'),LOGITS[i]))\n",
    "\n",
    "df_scores_logit=pd.DataFrame(score_logit,columns=[\"model\",\"name\",\"score\",\"y_hatd\"]).sort_values(by=\"score\",ascending=False,ignore_index=True)\n",
    "display(df_scores_logit)\n",
    "\n",
    "print(\"Best LOGIT Model: {}, {}\".format(df_scores_logit.name[0], df_scores_logit.score[0]))\n",
    "Logit_BEST = df_scores_logit.model[0]\n",
    "y_hatd_Logit_BEST = df_scores_logit.y_hatd[0]\n",
    "\n",
    "PREDICTIONS = []\n",
    "MODELS = []\n",
    "NAMES = []\n",
    "PREDICTIONS.append(y_hatd_Logit_BEST)\n",
    "MODELS.append(Logit_BEST)\n",
    "NAMES.append(\"Logit_BEST\")\n",
    "Xfile = [XFILE[i][1:3] for i in range(len(XFILE)) if XFILE[i][0]==df_scores_logit.name[0]]\n",
    "XFILE.append((\"Logit_BEST\",Xfile[0][0], Xfile[0][1]))"
   ]
  },
  {
   "cell_type": "markdown",
   "metadata": {},
   "source": [
    "## 4.1.3. Logistic Regression with 2-6 grams features\n",
    "<a id=\"logit26\"></a>\n",
    "This is another plain vanilla model, but since the results for this kind of text classification did not bring about any kind of improvement in the accuracy, but instead it decreased the level as a whole, it is not taken into account for the further tuning."
   ]
  },
  {
   "cell_type": "code",
   "execution_count": 20,
   "metadata": {
    "scrolled": true
   },
   "outputs": [
    {
     "name": "stdout",
     "output_type": "stream",
     "text": [
      "(18000, 73601) (6000, 73601) (6000, 73601)\n"
     ]
    }
   ],
   "source": [
    "# Get the new sparse matrix \n",
    "np.random.seed(9)\n",
    "vectorizer1 = TfidfVectorizer(ngram_range=(2,6), min_df=0.0001, max_df=0.7,analyzer='word')\n",
    "X_train26 = vectorizer1.fit_transform(train[best_input_logistic])\n",
    "X_dev26 = vectorizer1.transform(dev[best_input_logistic])\n",
    "X_test26 = vectorizer1.transform(test[best_input_logistic])\n",
    "print(X_train26.shape, X_dev26.shape, X_test26.shape)"
   ]
  },
  {
   "cell_type": "code",
   "execution_count": 21,
   "metadata": {
    "scrolled": false
   },
   "outputs": [
    {
     "name": "stdout",
     "output_type": "stream",
     "text": [
      "Wall time: 612 ms\n",
      "              precision    recall  f1-score   support\n",
      "\n",
      "           0       0.79      0.57      0.67      2755\n",
      "           1       0.71      0.87      0.78      3245\n",
      "\n",
      "    accuracy                           0.74      6000\n",
      "   macro avg       0.75      0.72      0.72      6000\n",
      "weighted avg       0.75      0.74      0.73      6000\n",
      "\n"
     ]
    }
   ],
   "source": [
    "# Run the Classifier\n",
    "np.random.seed(9)\n",
    "Logit1 = LogisticRegression(n_jobs=-1, multi_class='auto', solver='lbfgs',random_state=9)\n",
    "%time Logit1.fit(X_train26, y_train)\n",
    "y_hatd_Logit1 = Logit1.predict(X_dev26)\n",
    "print(classification_report(y_dev,y_hatd_Logit1))\n",
    "\n",
    "PREDICTIONS.append(y_hatd_Logit1)\n",
    "MODELS.append(Logit1)\n",
    "NAMES.append(\"Logit1\")\n",
    "XFILE.append((\"Logit1\",'X_train26',X_test26))"
   ]
  },
  {
   "cell_type": "code",
   "execution_count": 22,
   "metadata": {},
   "outputs": [
    {
     "name": "stdout",
     "output_type": "stream",
     "text": [
      "Wall time: 349 ms\n",
      "              precision    recall  f1-score   support\n",
      "\n",
      "           0       0.76      0.66      0.71      2755\n",
      "           1       0.74      0.82      0.78      3245\n",
      "\n",
      "    accuracy                           0.75      6000\n",
      "   macro avg       0.75      0.74      0.74      6000\n",
      "weighted avg       0.75      0.75      0.75      6000\n",
      "\n"
     ]
    }
   ],
   "source": [
    "# Run the Classifier with class_weight\n",
    "np.random.seed(9)\n",
    "Logit2 = LogisticRegression(n_jobs=-1, multi_class='auto', solver='lbfgs',class_weight='balanced',random_state=9)\n",
    "%time Logit2.fit(X_train26, y_train)\n",
    "y_hatd_Logit2 = Logit2.predict(X_dev26)\n",
    "print(classification_report(y_dev,y_hatd_Logit2))\n",
    "\n",
    "PREDICTIONS.append(y_hatd_Logit2)\n",
    "MODELS.append(Logit2)\n",
    "NAMES.append(\"Logit2\")\n",
    "XFILE.append((\"Logit2\",'X_train26',X_test26))"
   ]
  },
  {
   "cell_type": "markdown",
   "metadata": {},
   "source": [
    "## 4.1.4. Model Selection\n",
    "<a id=\"further_model_selection\"></a>\n",
    "Are there some models that can perform better than the Logistic Regression?"
   ]
  },
  {
   "cell_type": "code",
   "execution_count": 23,
   "metadata": {},
   "outputs": [],
   "source": [
    "labels = train.negative\n",
    "models_clf = [RandomForestClassifier(n_estimators=200, max_depth=3, random_state=9),LinearSVC(random_state=9),\n",
    "              MultinomialNB(),LogisticRegression(random_state=9),]\n",
    "CV = 5\n",
    "cv_df = pd.DataFrame(index=range(CV * len(models_clf)))\n",
    "entries = []\n",
    "for model in models_clf:\n",
    "    model_name = model.__class__.__name__\n",
    "    accuracies = cross_val_score(model, X_train, labels, scoring='accuracy', cv=CV)\n",
    "    for fold_idx, accuracy in enumerate(accuracies):\n",
    "        entries.append((model_name, fold_idx, accuracy))\n",
    "cv_df = pd.DataFrame(entries, columns=['model_name', 'fold_idx', 'accuracy'])"
   ]
  },
  {
   "cell_type": "code",
   "execution_count": 24,
   "metadata": {},
   "outputs": [
    {
     "data": {
      "text/plain": [
       "model_name\n",
       "LinearSVC                 0.881833\n",
       "LogisticRegression        0.882722\n",
       "MultinomialNB             0.870556\n",
       "RandomForestClassifier    0.634167\n",
       "Name: accuracy, dtype: float64"
      ]
     },
     "execution_count": 24,
     "metadata": {},
     "output_type": "execute_result"
    }
   ],
   "source": [
    "cv_df.groupby('model_name').accuracy.mean()"
   ]
  },
  {
   "cell_type": "markdown",
   "metadata": {},
   "source": [
    "## 4.1.5. Support Vector Machine\n",
    "<a id=\"svm\"></a>\n",
    "Since SVM has apparently some chance to outperform Logit, we decided to dive deeper in it.  \n",
    "Firstly, we check which ones among our inputs, it's the one which guarantees the highest accuracy in terms of preprocessing strength.\n",
    "\n",
    "**Best Input:** `stems_ex`"
   ]
  },
  {
   "cell_type": "code",
   "execution_count": 25,
   "metadata": {
    "scrolled": true
   },
   "outputs": [
    {
     "name": "stdout",
     "output_type": "stream",
     "text": [
      "stems_ex\n",
      "              precision    recall  f1-score   support\n",
      "\n",
      "           0       0.85      0.92      0.88      2755\n",
      "           1       0.93      0.86      0.89      3245\n",
      "\n",
      "    accuracy                           0.89      6000\n",
      "   macro avg       0.89      0.89      0.89      6000\n",
      "weighted avg       0.89      0.89      0.89      6000\n",
      "\n"
     ]
    }
   ],
   "source": [
    "np.random.seed(9)\n",
    "SVC_linear = svm.SVC(kernel='linear', class_weight='balanced',random_state=9)\n",
    "\n",
    "# Looking for the best input variable\n",
    "models =[\"txt_contract\",\"txt_expanded\",\"tokens_ex\",\"lemmas_ex\",\"stems_ex\",\"lemmas_fw_ex\",\n",
    "         \"tokens_con\",\"lemmas_con\",\"stems_con\",\"lemmas_fw_con\"]\n",
    "cv_fin=eval_input(SVC_linear,train,y_train,inputt=models,CV=3)\n",
    "\n",
    "# Choose the best input variable\n",
    "best_input_svc=cv_fin.index[0]\n",
    "print(best_input_svc)\n",
    "\n",
    "X_train5 = vectorizer.fit_transform(train[best_input_svc])\n",
    "X_dev5 = vectorizer.transform(dev[best_input_svc])\n",
    "X_test5 = vectorizer.transform(test[best_input_svc])\n",
    "\n",
    "# Classifier\n",
    "SVC_linear.fit(X_train5, y_train)\n",
    "y_hatd_SVC_linear = SVC_linear.predict(X_dev5)\n",
    "print(classification_report(y_dev,y_hatd_SVC_linear))\n",
    "XFILE.append((\"SVC_linear\",'X_train5',X_test5))"
   ]
  },
  {
   "cell_type": "markdown",
   "metadata": {},
   "source": [
    "### 4.1.5.1. Linear SVM with L2 Regularization\n",
    "<a id=\"best_params_LSVM\"></a>\n",
    "\n",
    "From the analysis it seems that the model does not need heavy additional weights for the balancing of the labels. Indeed, the value of the c providing the highest accuracy is one."
   ]
  },
  {
   "cell_type": "code",
   "execution_count": 26,
   "metadata": {},
   "outputs": [
    {
     "name": "stdout",
     "output_type": "stream",
     "text": [
      "1\n",
      "New best performance: 0.8871666666666665\n",
      "10\n",
      "100\n",
      "500\n",
      "1000\n",
      "5000\n"
     ]
    }
   ],
   "source": [
    "best_c_svm = None\n",
    "best_performance = 0.0\n",
    "ccs = [1, 10, 100, 500, 1000, 5000]\n",
    "sc_4 = []\n",
    "np.random.seed(9)\n",
    "\n",
    "for c in ccs:\n",
    "    print(c)\n",
    "    classifier_c = svm.SVC(kernel='linear', class_weight='balanced',C=c,random_state=9)\n",
    "    classifier_c.fit(X_train5, y_train)\n",
    "    predictions_c = classifier_c.predict(X_dev5)\n",
    "    score = f1_score(y_dev, predictions_c, average='micro')\n",
    "    sc_4.append(score)\n",
    "    if score > best_performance:\n",
    "        best_performance = score\n",
    "        best_c_svm = c\n",
    "        print(\"New best performance: {}\".format(score)) \n",
    "    #print(classification_report(y_dev, predictions_c))\n",
    "    #print()"
   ]
  },
  {
   "cell_type": "code",
   "execution_count": 27,
   "metadata": {},
   "outputs": [
    {
     "data": {
      "image/png": "[encoded data removed]",
      "text/plain": [
       "<Figure size 432x288 with 1 Axes>"
      ]
     },
     "metadata": {},
     "output_type": "display_data"
    }
   ],
   "source": [
    "plot_scores(ccs, sc_4, xlabel=\"c - Regularization Parameter\")"
   ]
  },
  {
   "cell_type": "code",
   "execution_count": 28,
   "metadata": {},
   "outputs": [
    {
     "name": "stdout",
     "output_type": "stream",
     "text": [
      "              precision    recall  f1-score   support\n",
      "\n",
      "           0       0.85      0.92      0.88      2755\n",
      "           1       0.93      0.86      0.89      3245\n",
      "\n",
      "    accuracy                           0.89      6000\n",
      "   macro avg       0.89      0.89      0.89      6000\n",
      "weighted avg       0.89      0.89      0.89      6000\n",
      "\n"
     ]
    }
   ],
   "source": [
    "# Choose best c (class_weight)\n",
    "SVC_linear_c_opt = svm.SVC(kernel='linear', class_weight='balanced',C=best_c_svm,random_state=9)\n",
    "SVC_linear_c_opt.fit(X_train5, y_train)\n",
    "y_hatd_SVC_linear_c_opt = SVC_linear_c_opt.predict(X_dev5)\n",
    "print(classification_report(y_dev, y_hatd_SVC_linear_c_opt))\n",
    "XFILE.append((\"SVC_linear_c_opt\",'X_train5',X_test5))"
   ]
  },
  {
   "cell_type": "markdown",
   "metadata": {},
   "source": [
    "### 4.1.5.2.  Linear SVM with Feature selection\n",
    "<a id=\"feature_selection_LSVM\"></a>\n",
    "We ran a feature selection with Chi squared and SVD to decrease the possibility of overfitting and make the model simplier. \n",
    "#### 4.1.5.2.1. ChiSquared\n",
    "<a id=\"chi2_LSVM\"></a>"
   ]
  },
  {
   "cell_type": "code",
   "execution_count": 29,
   "metadata": {},
   "outputs": [
    {
     "name": "stdout",
     "output_type": "stream",
     "text": [
      "100\n",
      "              precision    recall  f1-score   support\n",
      "\n",
      "           0       0.74      0.96      0.84      2755\n",
      "           1       0.96      0.71      0.82      3245\n",
      "\n",
      "    accuracy                           0.83      6000\n",
      "   macro avg       0.85      0.84      0.83      6000\n",
      "weighted avg       0.86      0.83      0.82      6000\n",
      "\n",
      "New best performance: 0.8263333333333333\n",
      "300\n",
      "              precision    recall  f1-score   support\n",
      "\n",
      "           0       0.79      0.95      0.86      2755\n",
      "           1       0.95      0.78      0.86      3245\n",
      "\n",
      "    accuracy                           0.86      6000\n",
      "   macro avg       0.87      0.87      0.86      6000\n",
      "weighted avg       0.88      0.86      0.86      6000\n",
      "\n",
      "New best performance: 0.8601666666666666\n",
      "500\n",
      "              precision    recall  f1-score   support\n",
      "\n",
      "           0       0.81      0.95      0.87      2755\n",
      "           1       0.95      0.81      0.87      3245\n",
      "\n",
      "    accuracy                           0.87      6000\n",
      "   macro avg       0.88      0.88      0.87      6000\n",
      "weighted avg       0.88      0.87      0.87      6000\n",
      "\n",
      "New best performance: 0.8723333333333333\n",
      "1000\n",
      "              precision    recall  f1-score   support\n",
      "\n",
      "           0       0.83      0.94      0.88      2755\n",
      "           1       0.95      0.84      0.89      3245\n",
      "\n",
      "    accuracy                           0.89      6000\n",
      "   macro avg       0.89      0.89      0.89      6000\n",
      "weighted avg       0.89      0.89      0.89      6000\n",
      "\n",
      "New best performance: 0.8871666666666665\n",
      "1500\n",
      "              precision    recall  f1-score   support\n",
      "\n",
      "           0       0.84      0.94      0.89      2755\n",
      "           1       0.94      0.85      0.89      3245\n",
      "\n",
      "    accuracy                           0.89      6000\n",
      "   macro avg       0.89      0.89      0.89      6000\n",
      "weighted avg       0.90      0.89      0.89      6000\n",
      "\n",
      "New best performance: 0.8908333333333334\n",
      "2000\n",
      "              precision    recall  f1-score   support\n",
      "\n",
      "           0       0.85      0.94      0.89      2755\n",
      "           1       0.94      0.86      0.90      3245\n",
      "\n",
      "    accuracy                           0.90      6000\n",
      "   macro avg       0.90      0.90      0.90      6000\n",
      "weighted avg       0.90      0.90      0.90      6000\n",
      "\n",
      "New best performance: 0.8956666666666667\n",
      "2500\n",
      "              precision    recall  f1-score   support\n",
      "\n",
      "           0       0.85      0.93      0.89      2755\n",
      "           1       0.93      0.86      0.89      3245\n",
      "\n",
      "    accuracy                           0.89      6000\n",
      "   macro avg       0.89      0.89      0.89      6000\n",
      "weighted avg       0.89      0.89      0.89      6000\n",
      "\n"
     ]
    }
   ],
   "source": [
    "sc_5 = []\n",
    "ksSVM = [100, 300, 500, 1000, 1500, 2000, 2500]\n",
    "best_k_chi2_SVM = None\n",
    "best_performance_dm = 0.0\n",
    "np.random.seed(9)\n",
    "for k in ksSVM:\n",
    "    print(k)\n",
    "    selector = SelectKBest(chi2, k=k).fit(X_train5, y_train)\n",
    "    X_train_sel = selector.transform(X_train5)\n",
    "    X_dev_sel = selector.transform(X_dev5)\n",
    "    LSVM_chi2 = svm.SVC(kernel='linear', C = best_c_svm, class_weight='balanced')\n",
    "    LSVM_chi2.fit(X_train_sel, y_train)\n",
    "    y_hatd_LSVM_chi2 = LSVM_chi2.predict(X_dev_sel)\n",
    "    print(classification_report(y_dev, y_hatd_LSVM_chi2))\n",
    "    score = f1_score(y_dev, y_hatd_LSVM_chi2, average='micro')\n",
    "    sc_5.append(score)\n",
    "    if score > best_performance_dm:\n",
    "        best_performance_dm = score\n",
    "        best_k_chi2_SVM = k\n",
    "        print(\"New best performance: {}\".format(score))\n",
    "    #print(classification_report(y_dev, y_hatd_Logit_chi2))\n",
    "    #print()"
   ]
  },
  {
   "cell_type": "code",
   "execution_count": 30,
   "metadata": {},
   "outputs": [
    {
     "data": {
      "image/png": "[encoded data removed]",
      "text/plain": [
       "<Figure size 432x288 with 1 Axes>"
      ]
     },
     "metadata": {},
     "output_type": "display_data"
    }
   ],
   "source": [
    "plot_scores(ksSVM, sc_5, xlabel=\"Chi2 - Features Number\")"
   ]
  },
  {
   "cell_type": "code",
   "execution_count": 31,
   "metadata": {},
   "outputs": [
    {
     "name": "stdout",
     "output_type": "stream",
     "text": [
      "              precision    recall  f1-score   support\n",
      "\n",
      "           0       0.85      0.94      0.89      2755\n",
      "           1       0.94      0.86      0.90      3245\n",
      "\n",
      "    accuracy                           0.90      6000\n",
      "   macro avg       0.90      0.90      0.90      6000\n",
      "weighted avg       0.90      0.90      0.90      6000\n",
      "\n"
     ]
    }
   ],
   "source": [
    "# Choose best k (class_weight and L2Reg)\n",
    "selector = SelectKBest(chi2, k=best_k_chi2_SVM).fit(X_train5, y_train)\n",
    "X_train_sel = selector.transform(X_train5)\n",
    "X_dev_sel = selector.transform(X_dev5)\n",
    "X_test_sel = selector.transform(X_test5)\n",
    "LSVM_chi2 = svm.SVC(kernel='linear', C = best_c_svm, class_weight='balanced',random_state=9)\n",
    "LSVM_chi2.fit(X_train_sel, y_train)\n",
    "y_hatd_LSVM_chi2 = LSVM_chi2.predict(X_dev_sel)\n",
    "print(classification_report(y_dev, y_hatd_LSVM_chi2))\n",
    "XFILE.append((\"LSVM_chi2\",'X_train_sel',X_test_sel))"
   ]
  },
  {
   "cell_type": "markdown",
   "metadata": {},
   "source": [
    "#### 4.1.5.2.2. Dimensionality Reduction\n",
    "<a id=\"SVD_LSVM\"></a>\n"
   ]
  },
  {
   "cell_type": "code",
   "execution_count": 32,
   "metadata": {},
   "outputs": [
    {
     "name": "stdout",
     "output_type": "stream",
     "text": [
      "100\n",
      "New best performance: 0.8446666666666667\n",
      "300\n",
      "New best performance: 0.8695\n",
      "500\n",
      "New best performance: 0.882\n",
      "1000\n",
      "New best performance: 0.8863333333333333\n",
      "1500\n",
      "New best performance: 0.8886666666666667\n",
      "2000\n",
      "New best performance: 0.8893333333333333\n",
      "2500\n",
      "New best performance: 0.8895\n"
     ]
    }
   ],
   "source": [
    "sc_6 = []\n",
    "kssSVM = [100, 300, 500, 1000, 1500, 2000, 2500]\n",
    "best_k_dim_SVM = None\n",
    "best_performance_dm = 0.0\n",
    "np.random.seed(9)\n",
    "for k in kssSVM:\n",
    "    print(k)\n",
    "    svd = TruncatedSVD(n_components=k)\n",
    "    X_train_dim = svd.fit_transform(X_train5)\n",
    "    X_dev_dim = svd.transform(X_dev5)\n",
    "    LSVM_dim = svm.SVC(kernel='linear', C = best_c_svm, class_weight='balanced',random_state=9)\n",
    "    LSVM_dim.fit(X_train_dim, y_train)\n",
    "    y_hatd_LSVM_dim = LSVM_dim.predict(X_dev_dim)\n",
    "    score = f1_score(y_dev, y_hatd_LSVM_dim, average='micro')\n",
    "    sc_6.append(score)\n",
    "    if score > best_performance_dm:\n",
    "        best_performance_dm = score\n",
    "        best_k_dim_SVM = k\n",
    "        print(\"New best performance: {}\".format(score))\n",
    "    #print(classification_report(y_dev, y_hatd_LSVM_dim))\n",
    "    #print()"
   ]
  },
  {
   "cell_type": "code",
   "execution_count": 33,
   "metadata": {},
   "outputs": [
    {
     "data": {
      "image/png": "[encoded data removed]",
      "text/plain": [
       "<Figure size 432x288 with 1 Axes>"
      ]
     },
     "metadata": {},
     "output_type": "display_data"
    }
   ],
   "source": [
    "plot_scores(kssSVM, sc_6, xlabel=\"Chi2 - Features Number\")"
   ]
  },
  {
   "cell_type": "code",
   "execution_count": 34,
   "metadata": {},
   "outputs": [
    {
     "name": "stdout",
     "output_type": "stream",
     "text": [
      "              precision    recall  f1-score   support\n",
      "\n",
      "           0       0.85      0.92      0.88      2755\n",
      "           1       0.93      0.86      0.89      3245\n",
      "\n",
      "    accuracy                           0.89      6000\n",
      "   macro avg       0.89      0.89      0.89      6000\n",
      "weighted avg       0.89      0.89      0.89      6000\n",
      "\n"
     ]
    }
   ],
   "source": [
    "# Choose best k (class_weight and L2Reg)\n",
    "np.random.seed(9)\n",
    "svd = TruncatedSVD(n_components=best_k_dim_SVM)\n",
    "X_train_dim = svd.fit_transform(X_train5)\n",
    "X_dev_dim = svd.transform(X_dev5)\n",
    "X_test_dim = svd.transform(X_test5)\n",
    "\n",
    "LSVM_dim = svm.SVC(kernel='linear', C = best_c_svm, class_weight='balanced',random_state=9)\n",
    "LSVM_dim.fit(X_train_dim, y_train)\n",
    "y_hatd_LSVM_dim = LSVM_dim.predict(X_dev_dim)\n",
    "print(classification_report(y_dev, y_hatd_LSVM_dim))\n",
    "XFILE.append((\"LSVM_dim\",'X_train_dim',X_test_dim))"
   ]
  },
  {
   "cell_type": "markdown",
   "metadata": {},
   "source": [
    "### 4.1.5.3. RBF SVM with Penalty and Gamma\n",
    "<a id=\"best_params_RSVM\"></a>\n",
    "We then moved to a SVM with radial basis function kernel, to increase our accuracy\n",
    "C is the penalty parameter of the error term. It controls the trade off between smooth decision boundary and classifying the training points correctly.  \n",
    "Gamma defines how far the influence of a single training example reaches (low = far)."
   ]
  },
  {
   "cell_type": "code",
   "execution_count": 35,
   "metadata": {
    "scrolled": true
   },
   "outputs": [
    {
     "name": "stdout",
     "output_type": "stream",
     "text": [
      "1 0.1\n",
      "New best performance: 0.8796666666666667\n",
      "1 1\n",
      "New best performance: 0.8846666666666667\n",
      "1 10\n",
      "1 100\n",
      "1 1000\n",
      "10 0.1\n",
      "New best performance: 0.8875\n",
      "10 1\n",
      "10 10\n",
      "10 100\n",
      "10 1000\n",
      "100 0.1\n",
      "100 1\n",
      "New best performance: 0.8876666666666667\n",
      "100 10\n",
      "100 100\n",
      "100 1000\n",
      "500 0.1\n",
      "500 1\n",
      "New best performance: 0.8888333333333334\n",
      "500 10\n",
      "500 100\n",
      "500 1000\n",
      "1000 0.1\n",
      "1000 1\n",
      "1000 10\n",
      "1000 100\n",
      "1000 1000\n",
      "5000 0.1\n",
      "5000 1\n",
      "5000 10\n",
      "5000 100\n",
      "5000 1000\n"
     ]
    }
   ],
   "source": [
    "np.random.seed(9)\n",
    "best_C = None\n",
    "best_gamma = None\n",
    "best_performance = 0.0\n",
    "Cs = [1, 10, 100, 500, 1000, 5000]\n",
    "gammas = [0.1, 1, 10, 100, 1000]\n",
    "sc_7 = []\n",
    "\n",
    "for c in Cs:\n",
    "    for g in gammas:\n",
    "        print(c, g)\n",
    "        classifier_c = svm.SVC(kernel='rbf', gamma=g, C = c, class_weight='balanced',random_state=9)\n",
    "        classifier_c.fit(X_train5, y_train)\n",
    "        predictions_c = classifier_c.predict(X_dev5)\n",
    "        score = f1_score(y_dev, predictions_c, average='micro')\n",
    "        sc_7.append(score)\n",
    "        if score > best_performance:\n",
    "            best_performance = score\n",
    "            best_C = c\n",
    "            best_gamma=g\n",
    "            print(\"New best performance: {}\".format(score))   \n",
    "    #print(classification_report(y_dev, predictions_c))\n",
    "    #print()"
   ]
  },
  {
   "cell_type": "code",
   "execution_count": 36,
   "metadata": {},
   "outputs": [
    {
     "name": "stdout",
     "output_type": "stream",
     "text": [
      "              precision    recall  f1-score   support\n",
      "\n",
      "           0       0.86      0.91      0.88      2755\n",
      "           1       0.92      0.87      0.89      3245\n",
      "\n",
      "    accuracy                           0.89      6000\n",
      "   macro avg       0.89      0.89      0.89      6000\n",
      "weighted avg       0.89      0.89      0.89      6000\n",
      "\n"
     ]
    }
   ],
   "source": [
    "# Choose best c and gamma (class_weight)\n",
    "RSVM=svm.SVC(kernel='rbf', gamma=best_gamma, C = best_C, class_weight='balanced',random_state=9)\n",
    "RSVM.fit(X_train5, y_train)\n",
    "y_hatd_RSVM = RSVM.predict(X_dev5)\n",
    "print(classification_report(y_dev, y_hatd_RSVM))\n",
    "XFILE.append((\"RSVM\",'X_train5',X_test5))"
   ]
  },
  {
   "cell_type": "markdown",
   "metadata": {},
   "source": [
    "### 4.1.5.4. RBF SVM with Feature selection\n",
    "<a id=\"feature_selection_RSVM\"></a>\n",
    "\n",
    "#### 4.1.5.4.1. ChiSquared\n",
    "<a id=\"chi2_RSVM\"></a>\n"
   ]
  },
  {
   "cell_type": "code",
   "execution_count": 37,
   "metadata": {},
   "outputs": [
    {
     "name": "stdout",
     "output_type": "stream",
     "text": [
      "100\n",
      "New best performance: 0.8328333333333333\n",
      "300\n",
      "New best performance: 0.8498333333333333\n",
      "500\n",
      "New best performance: 0.8523333333333334\n",
      "1000\n",
      "New best performance: 0.8588333333333333\n",
      "1500\n",
      "New best performance: 0.8658333333333333\n",
      "2000\n",
      "2500\n",
      "New best performance: 0.8756666666666668\n"
     ]
    }
   ],
   "source": [
    "np.random.seed(9)\n",
    "sc_8 = []\n",
    "ksRBF = [100, 300, 500, 1000, 1500, 2000, 2500]\n",
    "best_k_chi2_RBF = None\n",
    "best_performance_dm = 0.0\n",
    "\n",
    "for k in ksRBF:\n",
    "    print(k)\n",
    "    selector = SelectKBest(chi2, k=k).fit(X_train5, y_train)\n",
    "    X_train_sel = selector.transform(X_train5)\n",
    "    X_dev_sel = selector.transform(X_dev5)\n",
    "    SVM_chi2 = svm.SVC(kernel='rbf', gamma=best_gamma, C = best_C,class_weight='balanced',random_state=9)\n",
    "    SVM_chi2.fit(X_train_sel, y_train)\n",
    "    y_hatd_SVM_chi2 = SVM_chi2.predict(X_dev_sel)\n",
    "    score = f1_score(y_dev, y_hatd_SVM_chi2, average='micro')\n",
    "    sc_8.append(score)\n",
    "    if score > best_performance_dm:\n",
    "        best_performance_dm = score\n",
    "        best_k_chi2_RBF = k\n",
    "        print(\"New best performance: {}\".format(score))\n",
    "    #print(classification_report(y_dev, y_hatd_SVM_chi2))\n",
    "    #print()"
   ]
  },
  {
   "cell_type": "code",
   "execution_count": 38,
   "metadata": {},
   "outputs": [
    {
     "data": {
      "image/png": "[encoded data removed]",
      "text/plain": [
       "<Figure size 432x288 with 1 Axes>"
      ]
     },
     "metadata": {},
     "output_type": "display_data"
    }
   ],
   "source": [
    "plot_scores(ksRBF, sc_8, xlabel=\"Chi2 - Features Number\")"
   ]
  },
  {
   "cell_type": "code",
   "execution_count": 39,
   "metadata": {},
   "outputs": [
    {
     "name": "stdout",
     "output_type": "stream",
     "text": [
      "              precision    recall  f1-score   support\n",
      "\n",
      "           0       0.85      0.89      0.87      2755\n",
      "           1       0.90      0.87      0.88      3245\n",
      "\n",
      "    accuracy                           0.88      6000\n",
      "   macro avg       0.87      0.88      0.88      6000\n",
      "weighted avg       0.88      0.88      0.88      6000\n",
      "\n"
     ]
    }
   ],
   "source": [
    "# Choose best k (class_weight, gamma, penalty)\n",
    "np.random.seed(9)\n",
    "selector = SelectKBest(chi2, k=best_k_chi2_RBF).fit(X_train5, y_train)\n",
    "X_train_sell = selector.transform(X_train5)\n",
    "X_dev_sell = selector.transform(X_dev5)\n",
    "X_test_sell = selector.transform(X_test5)\n",
    "\n",
    "RSVM_chi2 = svm.SVC(kernel='rbf', gamma=best_gamma , C = best_C, class_weight='balanced',random_state=9)\n",
    "RSVM_chi2.fit(X_train_sell, y_train)\n",
    "y_hatd_RSVM_chi2 = RSVM_chi2.predict(X_dev_sell)\n",
    "print(classification_report(y_dev, y_hatd_RSVM_chi2))\n",
    "XFILE.append((\"RSVM_chi2\",'X_train_sell',X_test_sell))"
   ]
  },
  {
   "cell_type": "markdown",
   "metadata": {},
   "source": [
    "#### 4.1.5.4.2. SVD Dimensionality Reduction\n",
    "<a id=\"SVD_RSVM\"></a>"
   ]
  },
  {
   "cell_type": "code",
   "execution_count": 40,
   "metadata": {
    "scrolled": true
   },
   "outputs": [
    {
     "name": "stdout",
     "output_type": "stream",
     "text": [
      "100\n",
      "New best performance: 0.8448333333333333\n",
      "300\n",
      "New best performance: 0.865\n",
      "500\n",
      "New best performance: 0.8675\n",
      "1000\n",
      "New best performance: 0.8815\n",
      "1500\n",
      "New best performance: 0.89\n",
      "2000\n",
      "2500\n"
     ]
    }
   ],
   "source": [
    "np.random.seed(9)\n",
    "sc_9 = []\n",
    "kssRBF = [100, 300, 500, 1000, 1500, 2000, 2500]\n",
    "best_k_dim_RBF = None\n",
    "best_performance_dm = 0.0\n",
    "\n",
    "for k in kssRBF:\n",
    "    print(k)\n",
    "    svd = TruncatedSVD(n_components=k) \n",
    "    X_train_dim = svd.fit_transform(X_train5)\n",
    "    X_dev_dim = svd.transform(X_dev5)\n",
    "    RSVM_dim = svm.SVC(kernel='rbf', gamma=best_gamma, C = best_C,class_weight='balanced',random_state=9)\n",
    "    RSVM_dim.fit(X_train_dim, y_train)\n",
    "    y_hatd_RSVM_dim = RSVM_dim.predict(X_dev_dim)\n",
    "    score = f1_score(y_dev, y_hatd_RSVM_dim, average='micro')\n",
    "    sc_9.append(score)\n",
    "    if score > best_performance_dm:\n",
    "        best_performance_dm = score\n",
    "        best_k_dim_RBF = k\n",
    "        print(\"New best performance: {}\".format(score))\n",
    "    #print(classification_report(y_dev, y_hatd_RSVM_dim))\n",
    "    #print()"
   ]
  },
  {
   "cell_type": "code",
   "execution_count": 41,
   "metadata": {},
   "outputs": [
    {
     "data": {
      "image/png": "[encoded data removed]",
      "text/plain": [
       "<Figure size 432x288 with 1 Axes>"
      ]
     },
     "metadata": {},
     "output_type": "display_data"
    }
   ],
   "source": [
    "plot_scores(kssRBF, sc_9, xlabel=\"SVD - Features Number\")"
   ]
  },
  {
   "cell_type": "code",
   "execution_count": 42,
   "metadata": {},
   "outputs": [
    {
     "name": "stdout",
     "output_type": "stream",
     "text": [
      "              precision    recall  f1-score   support\n",
      "\n",
      "           0       0.87      0.87      0.87      2755\n",
      "           1       0.89      0.89      0.89      3245\n",
      "\n",
      "    accuracy                           0.88      6000\n",
      "   macro avg       0.88      0.88      0.88      6000\n",
      "weighted avg       0.88      0.88      0.88      6000\n",
      "\n"
     ]
    }
   ],
   "source": [
    "# Choose best k (class_weight, gamma, penalty)\n",
    "np.random.seed(9)\n",
    "svd = TruncatedSVD(n_components=best_k_dim_RBF)\n",
    "X_train_dimm = svd.fit_transform(X_train5)\n",
    "X_dev_dimm = svd.transform(X_dev5)\n",
    "X_test_dimm = svd.transform(X_test5)\n",
    "\n",
    "RSVM_dim = svm.SVC(kernel='rbf', gamma=best_gamma, C = best_C,random_state=9)\n",
    "RSVM_dim.fit(X_train_dimm, y_train)\n",
    "y_hatd_RSVM_dim = RSVM_dim.predict(X_dev_dimm)\n",
    "print(classification_report(y_dev, y_hatd_RSVM_dim))\n",
    "XFILE.append((\"RSVM_dim\",'X_train_dimm',X_test_dimm))"
   ]
  },
  {
   "cell_type": "markdown",
   "metadata": {},
   "source": [
    "### 4.1.5.5. Best SVM Model\n",
    "<a id=\"best_SVM\"></a>\n",
    "\n",
    "**Which is the best SVM Model?**   \n",
    "\n",
    "    1. SVC_linear (class_weight)\n",
    "    2. SVC_linear_c_opt (c and class_weight)\n",
    "    3. LSVM_chi2 (k, c and class_weight)\n",
    "    4. LSVM_dim (k, c and class_weight)\n",
    "    5. RSVM (gamma, c and class_weight)\n",
    "    6. RSVM_chi2 (k, gamma, c and class_weight)\n",
    "    7. RSVM_dim (k, gamma, c and class_weight)  \n",
    "    \n",
    "Even if our data have been re-balanced, we still use the f1 metric."
   ]
  },
  {
   "cell_type": "code",
   "execution_count": 43,
   "metadata": {},
   "outputs": [
    {
     "data": {
      "text/html": [
       "<div>\n",
       "<style scoped>\n",
       "    .dataframe tbody tr th:only-of-type {\n",
       "        vertical-align: middle;\n",
       "    }\n",
       "\n",
       "    .dataframe tbody tr th {\n",
       "        vertical-align: top;\n",
       "    }\n",
       "\n",
       "    .dataframe thead th {\n",
       "        text-align: right;\n",
       "    }\n",
       "</style>\n",
       "<table border=\"1\" class=\"dataframe\">\n",
       "  <thead>\n",
       "    <tr style=\"text-align: right;\">\n",
       "      <th></th>\n",
       "      <th>model</th>\n",
       "      <th>name</th>\n",
       "      <th>score</th>\n",
       "      <th>y_hatd</th>\n",
       "    </tr>\n",
       "  </thead>\n",
       "  <tbody>\n",
       "    <tr>\n",
       "      <th>0</th>\n",
       "      <td>SVC(C=1, break_ties=False, cache_size=200, cla...</td>\n",
       "      <td>LSVM_chi2</td>\n",
       "      <td>0.895667</td>\n",
       "      <td>[1, 1, 0, 1, 0, 1, 1, 1, 1, 0, 0, 0, 1, 1, 0, ...</td>\n",
       "    </tr>\n",
       "    <tr>\n",
       "      <th>1</th>\n",
       "      <td>SVC(C=500, break_ties=False, cache_size=200, c...</td>\n",
       "      <td>RSVM</td>\n",
       "      <td>0.888833</td>\n",
       "      <td>[1, 1, 0, 1, 0, 1, 1, 1, 1, 0, 0, 0, 1, 1, 0, ...</td>\n",
       "    </tr>\n",
       "    <tr>\n",
       "      <th>2</th>\n",
       "      <td>SVC(C=1, break_ties=False, cache_size=200, cla...</td>\n",
       "      <td>LSVM_dim</td>\n",
       "      <td>0.888667</td>\n",
       "      <td>[1, 1, 0, 1, 0, 1, 1, 1, 1, 0, 0, 0, 1, 1, 0, ...</td>\n",
       "    </tr>\n",
       "    <tr>\n",
       "      <th>3</th>\n",
       "      <td>SVC(C=1, break_ties=False, cache_size=200, cla...</td>\n",
       "      <td>SVC_linear_c_opt</td>\n",
       "      <td>0.887167</td>\n",
       "      <td>[1, 1, 0, 1, 0, 1, 1, 1, 1, 0, 0, 0, 1, 1, 0, ...</td>\n",
       "    </tr>\n",
       "    <tr>\n",
       "      <th>4</th>\n",
       "      <td>SVC(C=1.0, break_ties=False, cache_size=200, c...</td>\n",
       "      <td>SVC_linear</td>\n",
       "      <td>0.887167</td>\n",
       "      <td>[1, 1, 0, 1, 0, 1, 1, 1, 1, 0, 0, 0, 1, 1, 0, ...</td>\n",
       "    </tr>\n",
       "    <tr>\n",
       "      <th>5</th>\n",
       "      <td>SVC(C=500, break_ties=False, cache_size=200, c...</td>\n",
       "      <td>RSVM_dim</td>\n",
       "      <td>0.882500</td>\n",
       "      <td>[1, 1, 0, 1, 0, 1, 1, 1, 1, 0, 0, 0, 1, 1, 0, ...</td>\n",
       "    </tr>\n",
       "    <tr>\n",
       "      <th>6</th>\n",
       "      <td>SVC(C=500, break_ties=False, cache_size=200, c...</td>\n",
       "      <td>RSVM_chi2</td>\n",
       "      <td>0.875667</td>\n",
       "      <td>[1, 1, 0, 1, 0, 1, 1, 1, 1, 0, 0, 0, 1, 1, 0, ...</td>\n",
       "    </tr>\n",
       "  </tbody>\n",
       "</table>\n",
       "</div>"
      ],
      "text/plain": [
       "                                               model              name  \\\n",
       "0  SVC(C=1, break_ties=False, cache_size=200, cla...         LSVM_chi2   \n",
       "1  SVC(C=500, break_ties=False, cache_size=200, c...              RSVM   \n",
       "2  SVC(C=1, break_ties=False, cache_size=200, cla...          LSVM_dim   \n",
       "3  SVC(C=1, break_ties=False, cache_size=200, cla...  SVC_linear_c_opt   \n",
       "4  SVC(C=1.0, break_ties=False, cache_size=200, c...        SVC_linear   \n",
       "5  SVC(C=500, break_ties=False, cache_size=200, c...          RSVM_dim   \n",
       "6  SVC(C=500, break_ties=False, cache_size=200, c...         RSVM_chi2   \n",
       "\n",
       "      score                                             y_hatd  \n",
       "0  0.895667  [1, 1, 0, 1, 0, 1, 1, 1, 1, 0, 0, 0, 1, 1, 0, ...  \n",
       "1  0.888833  [1, 1, 0, 1, 0, 1, 1, 1, 1, 0, 0, 0, 1, 1, 0, ...  \n",
       "2  0.888667  [1, 1, 0, 1, 0, 1, 1, 1, 1, 0, 0, 0, 1, 1, 0, ...  \n",
       "3  0.887167  [1, 1, 0, 1, 0, 1, 1, 1, 1, 0, 0, 0, 1, 1, 0, ...  \n",
       "4  0.887167  [1, 1, 0, 1, 0, 1, 1, 1, 1, 0, 0, 0, 1, 1, 0, ...  \n",
       "5  0.882500  [1, 1, 0, 1, 0, 1, 1, 1, 1, 0, 0, 0, 1, 1, 0, ...  \n",
       "6  0.875667  [1, 1, 0, 1, 0, 1, 1, 1, 1, 0, 0, 0, 1, 1, 0, ...  "
      ]
     },
     "metadata": {},
     "output_type": "display_data"
    },
    {
     "name": "stdout",
     "output_type": "stream",
     "text": [
      "Best SVM Model: LSVM_chi2, 0.8956666666666667\n"
     ]
    }
   ],
   "source": [
    "# Compare all SVM Models \n",
    "score_SVM=[]\n",
    "label_SVM=[RSVM_chi2,RSVM_dim,RSVM,LSVM_dim,LSVM_chi2,SVC_linear_c_opt,SVC_linear]\n",
    "name_SVM = \"RSVM_chi2,RSVM_dim,RSVM,LSVM_dim,LSVM_chi2,SVC_linear_c_opt,SVC_linear\".split(\",\")\n",
    "SVMS=[y_hatd_RSVM_chi2,y_hatd_RSVM_dim,y_hatd_RSVM,y_hatd_LSVM_dim,y_hatd_LSVM_chi2,\n",
    "      y_hatd_SVC_linear_c_opt,y_hatd_SVC_linear]\n",
    "\n",
    "for i in range(len(SVMS)):\n",
    "    score_SVM.append((label_SVM[i],name_SVM[i],f1_score(y_dev,SVMS[i],average='micro'),SVMS[i]))\n",
    "\n",
    "df_scores_SVM=pd.DataFrame(score_SVM,columns=[\"model\",\"name\",\"score\",\"y_hatd\"]).sort_values(by=\"score\",\n",
    "                                                                                            ascending=False,\n",
    "                                                                                            ignore_index=True)\n",
    "display(df_scores_SVM)\n",
    "\n",
    "print(\"Best SVM Model: {}, {}\".format(df_scores_SVM.name[0], df_scores_SVM.score[0]))\n",
    "SVM_BEST = df_scores_SVM.model[0]\n",
    "y_hatd_SVM_BEST = df_scores_SVM.y_hatd[0]\n",
    "\n",
    "PREDICTIONS.append(y_hatd_SVM_BEST)\n",
    "MODELS.append(SVM_BEST)\n",
    "NAMES.append(\"SVM_BEST\")\n",
    "Xfile = [XFILE[i][1:3] for i in range(len(XFILE)) if XFILE[i][0]==df_scores_SVM.name[0]]\n",
    "XFILE.append((\"SVM_BEST\",Xfile[0][0], Xfile[0][1]))"
   ]
  },
  {
   "cell_type": "markdown",
   "metadata": {},
   "source": [
    "## 4.1.6. Multilayer Perceptron\n",
    "<a id=\"mlp\"></a>\n",
    "Now, we moved to more complex models: Neural Networks.     \n",
    "From a basic one, that takes as input a sparse matrix, we moved to a more complex and creative one.    \n",
    "As before, we carried out an analysis with CV on the training set to see what was the input variable that leads to better performance.\n",
    "\n",
    "**Best Input:** `lemmas_fw_con`"
   ]
  },
  {
   "cell_type": "code",
   "execution_count": 44,
   "metadata": {},
   "outputs": [
    {
     "name": "stderr",
     "output_type": "stream",
     "text": [
      "C:\\Users\\Ospite\\anaconda3\\lib\\site-packages\\sklearn\\neural_network\\_multilayer_perceptron.py:470: ConvergenceWarning: lbfgs failed to converge (status=1):\n",
      "STOP: TOTAL NO. of ITERATIONS REACHED LIMIT.\n",
      "\n",
      "Increase the number of iterations (max_iter) or scale the data as shown in:\n",
      "    https://scikit-learn.org/stable/modules/preprocessing.html\n",
      "  self.n_iter_ = _check_optimize_result(\"lbfgs\", opt_res, self.max_iter)\n",
      "C:\\Users\\Ospite\\anaconda3\\lib\\site-packages\\sklearn\\neural_network\\_multilayer_perceptron.py:470: ConvergenceWarning: lbfgs failed to converge (status=1):\n",
      "STOP: TOTAL NO. of ITERATIONS REACHED LIMIT.\n",
      "\n",
      "Increase the number of iterations (max_iter) or scale the data as shown in:\n",
      "    https://scikit-learn.org/stable/modules/preprocessing.html\n",
      "  self.n_iter_ = _check_optimize_result(\"lbfgs\", opt_res, self.max_iter)\n",
      "C:\\Users\\Ospite\\anaconda3\\lib\\site-packages\\sklearn\\neural_network\\_multilayer_perceptron.py:470: ConvergenceWarning: lbfgs failed to converge (status=1):\n",
      "STOP: TOTAL NO. of ITERATIONS REACHED LIMIT.\n",
      "\n",
      "Increase the number of iterations (max_iter) or scale the data as shown in:\n",
      "    https://scikit-learn.org/stable/modules/preprocessing.html\n",
      "  self.n_iter_ = _check_optimize_result(\"lbfgs\", opt_res, self.max_iter)\n",
      "C:\\Users\\Ospite\\anaconda3\\lib\\site-packages\\sklearn\\neural_network\\_multilayer_perceptron.py:470: ConvergenceWarning: lbfgs failed to converge (status=1):\n",
      "STOP: TOTAL NO. of ITERATIONS REACHED LIMIT.\n",
      "\n",
      "Increase the number of iterations (max_iter) or scale the data as shown in:\n",
      "    https://scikit-learn.org/stable/modules/preprocessing.html\n",
      "  self.n_iter_ = _check_optimize_result(\"lbfgs\", opt_res, self.max_iter)\n"
     ]
    },
    {
     "name": "stdout",
     "output_type": "stream",
     "text": [
      "lemmas_fw_con\n",
      "              precision    recall  f1-score   support\n",
      "\n",
      "           0       0.83      0.83      0.83      2755\n",
      "           1       0.86      0.85      0.86      3245\n",
      "\n",
      "    accuracy                           0.84      6000\n",
      "   macro avg       0.84      0.84      0.84      6000\n",
      "weighted avg       0.84      0.84      0.84      6000\n",
      "\n"
     ]
    }
   ],
   "source": [
    "# BASIC MLP\n",
    "np.random.seed(9) #lemmas_fw_con\n",
    "MLP = MLPClassifier(solver=\"lbfgs\", activation=\"relu\",alpha=1e-5, \n",
    "                    hidden_layer_sizes=(256),max_iter=500,random_state=9)\n",
    "\n",
    "# Looking for the best input variable\n",
    "cv_fin=eval_input(MLP,train,y_train,inputt=models,CV=3)\n",
    "\n",
    "# Choose the best input variable\n",
    "best_input_nn=cv_fin.index[0]\n",
    "print(best_input_nn)\n",
    "\n",
    "X_train6 = vectorizer.fit_transform(train[best_input_nn])\n",
    "X_dev6 = vectorizer.transform(dev[best_input_nn])\n",
    "X_test6 = vectorizer.transform(test[best_input_nn])\n",
    "\n",
    "train_dev=data[:train_size+dev_size]\n",
    "X_train_dev6 =vectorizer.transform(train_dev[best_input_nn])\n",
    "\n",
    "MLP.fit(X_train6, y_train)\n",
    "y_hatd_MLP = MLP.predict(X_dev6)\n",
    "print(classification_report(y_dev, y_hatd_MLP))"
   ]
  },
  {
   "cell_type": "markdown",
   "metadata": {},
   "source": [
    "### 4.1.6.1. Best parameters\n",
    "<a id=\"best_params_mlp\"></a>\n",
    "Tuning of the following parameters: \n",
    "- Layer/s size, \n",
    "- Activation function, \n",
    "- Alpha."
   ]
  },
  {
   "cell_type": "code",
   "execution_count": 45,
   "metadata": {},
   "outputs": [
    {
     "name": "stdout",
     "output_type": "stream",
     "text": [
      "New best performance: 0.8861666666666667\n"
     ]
    },
    {
     "name": "stderr",
     "output_type": "stream",
     "text": [
      "C:\\Users\\Ospite\\anaconda3\\lib\\site-packages\\sklearn\\neural_network\\_multilayer_perceptron.py:470: ConvergenceWarning: lbfgs failed to converge (status=1):\n",
      "STOP: TOTAL NO. of ITERATIONS REACHED LIMIT.\n",
      "\n",
      "Increase the number of iterations (max_iter) or scale the data as shown in:\n",
      "    https://scikit-learn.org/stable/modules/preprocessing.html\n",
      "  self.n_iter_ = _check_optimize_result(\"lbfgs\", opt_res, self.max_iter)\n",
      "C:\\Users\\Ospite\\anaconda3\\lib\\site-packages\\sklearn\\neural_network\\_multilayer_perceptron.py:470: ConvergenceWarning: lbfgs failed to converge (status=1):\n",
      "STOP: TOTAL NO. of ITERATIONS REACHED LIMIT.\n",
      "\n",
      "Increase the number of iterations (max_iter) or scale the data as shown in:\n",
      "    https://scikit-learn.org/stable/modules/preprocessing.html\n",
      "  self.n_iter_ = _check_optimize_result(\"lbfgs\", opt_res, self.max_iter)\n",
      "C:\\Users\\Ospite\\anaconda3\\lib\\site-packages\\sklearn\\neural_network\\_multilayer_perceptron.py:470: ConvergenceWarning: lbfgs failed to converge (status=1):\n",
      "STOP: TOTAL NO. of ITERATIONS REACHED LIMIT.\n",
      "\n",
      "Increase the number of iterations (max_iter) or scale the data as shown in:\n",
      "    https://scikit-learn.org/stable/modules/preprocessing.html\n",
      "  self.n_iter_ = _check_optimize_result(\"lbfgs\", opt_res, self.max_iter)\n",
      "C:\\Users\\Ospite\\anaconda3\\lib\\site-packages\\sklearn\\neural_network\\_multilayer_perceptron.py:470: ConvergenceWarning: lbfgs failed to converge (status=1):\n",
      "STOP: TOTAL NO. of ITERATIONS REACHED LIMIT.\n",
      "\n",
      "Increase the number of iterations (max_iter) or scale the data as shown in:\n",
      "    https://scikit-learn.org/stable/modules/preprocessing.html\n",
      "  self.n_iter_ = _check_optimize_result(\"lbfgs\", opt_res, self.max_iter)\n",
      "C:\\Users\\Ospite\\anaconda3\\lib\\site-packages\\sklearn\\neural_network\\_multilayer_perceptron.py:470: ConvergenceWarning: lbfgs failed to converge (status=1):\n",
      "STOP: TOTAL NO. of ITERATIONS REACHED LIMIT.\n",
      "\n",
      "Increase the number of iterations (max_iter) or scale the data as shown in:\n",
      "    https://scikit-learn.org/stable/modules/preprocessing.html\n",
      "  self.n_iter_ = _check_optimize_result(\"lbfgs\", opt_res, self.max_iter)\n",
      "C:\\Users\\Ospite\\anaconda3\\lib\\site-packages\\sklearn\\neural_network\\_multilayer_perceptron.py:470: ConvergenceWarning: lbfgs failed to converge (status=1):\n",
      "STOP: TOTAL NO. of ITERATIONS REACHED LIMIT.\n",
      "\n",
      "Increase the number of iterations (max_iter) or scale the data as shown in:\n",
      "    https://scikit-learn.org/stable/modules/preprocessing.html\n",
      "  self.n_iter_ = _check_optimize_result(\"lbfgs\", opt_res, self.max_iter)\n"
     ]
    },
    {
     "name": "stdout",
     "output_type": "stream",
     "text": [
      "New best performance: 0.8865\n",
      "Use relu with (64, 64) layers, and alpha: 1e-05 with performance: 0.8865\n"
     ]
    },
    {
     "name": "stderr",
     "output_type": "stream",
     "text": [
      "C:\\Users\\Ospite\\anaconda3\\lib\\site-packages\\sklearn\\neural_network\\_multilayer_perceptron.py:470: ConvergenceWarning: lbfgs failed to converge (status=1):\n",
      "STOP: TOTAL NO. of ITERATIONS REACHED LIMIT.\n",
      "\n",
      "Increase the number of iterations (max_iter) or scale the data as shown in:\n",
      "    https://scikit-learn.org/stable/modules/preprocessing.html\n",
      "  self.n_iter_ = _check_optimize_result(\"lbfgs\", opt_res, self.max_iter)\n"
     ]
    }
   ],
   "source": [
    "np.random.seed(9)\n",
    "best_performance = 0.0\n",
    "best_layer = None\n",
    "best_activation = None\n",
    "best_alpha=None\n",
    "layerss = [(128,),(256,),(64,64),(64,)]\n",
    "activations=[\"logistic\",\"relu\"]\n",
    "alphas=[0.1,0.001,0.00001]\n",
    "sc_10 = []\n",
    "\n",
    "for alfa in alphas:\n",
    "    for activation in activations:\n",
    "        for layer in layerss:\n",
    "            clf = MLPClassifier(solver=\"lbfgs\", activation=activation,alpha=alfa, hidden_layer_sizes=layer,\n",
    "                                max_iter=500,random_state=9)\n",
    "            clf.fit(X_train6, y_train)\n",
    "            predictions = clf.predict(X_dev6)\n",
    "            score = f1_score(y_dev, predictions, average='micro')\n",
    "            sc_10.append((activation,layer,alfa,score))\n",
    "            if score > best_performance:\n",
    "                best_performance = score\n",
    "                best_layer = layer\n",
    "                best_activation= activation\n",
    "                best_alpha= alfa\n",
    "                print(\"New best performance: {}\".format(score))\n",
    "            #print(classification_report(y_dev, predictions))\n",
    "            #print()\n",
    "\n",
    "print(\"Use\",best_activation,\"with\",best_layer,\"layers, and alpha:\",str(best_alpha),\"with performance:\",str(best_performance))"
   ]
  },
  {
   "cell_type": "code",
   "execution_count": 46,
   "metadata": {},
   "outputs": [
    {
     "data": {
      "text/html": [
       "<div>\n",
       "<style scoped>\n",
       "    .dataframe tbody tr th:only-of-type {\n",
       "        vertical-align: middle;\n",
       "    }\n",
       "\n",
       "    .dataframe tbody tr th {\n",
       "        vertical-align: top;\n",
       "    }\n",
       "\n",
       "    .dataframe thead th {\n",
       "        text-align: right;\n",
       "    }\n",
       "</style>\n",
       "<table border=\"1\" class=\"dataframe\">\n",
       "  <thead>\n",
       "    <tr style=\"text-align: right;\">\n",
       "      <th></th>\n",
       "      <th>activation</th>\n",
       "      <th>layer</th>\n",
       "      <th>alpha</th>\n",
       "      <th>score</th>\n",
       "    </tr>\n",
       "  </thead>\n",
       "  <tbody>\n",
       "    <tr>\n",
       "      <th>22</th>\n",
       "      <td>relu</td>\n",
       "      <td>(64, 64)</td>\n",
       "      <td>0.00001</td>\n",
       "      <td>0.886500</td>\n",
       "    </tr>\n",
       "    <tr>\n",
       "      <th>0</th>\n",
       "      <td>logistic</td>\n",
       "      <td>(128,)</td>\n",
       "      <td>0.10000</td>\n",
       "      <td>0.886167</td>\n",
       "    </tr>\n",
       "    <tr>\n",
       "      <th>6</th>\n",
       "      <td>relu</td>\n",
       "      <td>(64, 64)</td>\n",
       "      <td>0.10000</td>\n",
       "      <td>0.885000</td>\n",
       "    </tr>\n",
       "    <tr>\n",
       "      <th>7</th>\n",
       "      <td>relu</td>\n",
       "      <td>(64,)</td>\n",
       "      <td>0.10000</td>\n",
       "      <td>0.883333</td>\n",
       "    </tr>\n",
       "    <tr>\n",
       "      <th>4</th>\n",
       "      <td>relu</td>\n",
       "      <td>(128,)</td>\n",
       "      <td>0.10000</td>\n",
       "      <td>0.883167</td>\n",
       "    </tr>\n",
       "    <tr>\n",
       "      <th>9</th>\n",
       "      <td>logistic</td>\n",
       "      <td>(256,)</td>\n",
       "      <td>0.00100</td>\n",
       "      <td>0.882500</td>\n",
       "    </tr>\n",
       "    <tr>\n",
       "      <th>12</th>\n",
       "      <td>relu</td>\n",
       "      <td>(128,)</td>\n",
       "      <td>0.00100</td>\n",
       "      <td>0.882167</td>\n",
       "    </tr>\n",
       "    <tr>\n",
       "      <th>14</th>\n",
       "      <td>relu</td>\n",
       "      <td>(64, 64)</td>\n",
       "      <td>0.00100</td>\n",
       "      <td>0.871000</td>\n",
       "    </tr>\n",
       "    <tr>\n",
       "      <th>18</th>\n",
       "      <td>logistic</td>\n",
       "      <td>(64, 64)</td>\n",
       "      <td>0.00001</td>\n",
       "      <td>0.865167</td>\n",
       "    </tr>\n",
       "    <tr>\n",
       "      <th>5</th>\n",
       "      <td>relu</td>\n",
       "      <td>(256,)</td>\n",
       "      <td>0.10000</td>\n",
       "      <td>0.862500</td>\n",
       "    </tr>\n",
       "    <tr>\n",
       "      <th>11</th>\n",
       "      <td>logistic</td>\n",
       "      <td>(64,)</td>\n",
       "      <td>0.00100</td>\n",
       "      <td>0.861333</td>\n",
       "    </tr>\n",
       "    <tr>\n",
       "      <th>10</th>\n",
       "      <td>logistic</td>\n",
       "      <td>(64, 64)</td>\n",
       "      <td>0.00100</td>\n",
       "      <td>0.860333</td>\n",
       "    </tr>\n",
       "    <tr>\n",
       "      <th>19</th>\n",
       "      <td>logistic</td>\n",
       "      <td>(64,)</td>\n",
       "      <td>0.00001</td>\n",
       "      <td>0.859000</td>\n",
       "    </tr>\n",
       "    <tr>\n",
       "      <th>3</th>\n",
       "      <td>logistic</td>\n",
       "      <td>(64,)</td>\n",
       "      <td>0.10000</td>\n",
       "      <td>0.857000</td>\n",
       "    </tr>\n",
       "    <tr>\n",
       "      <th>15</th>\n",
       "      <td>relu</td>\n",
       "      <td>(64,)</td>\n",
       "      <td>0.00100</td>\n",
       "      <td>0.856500</td>\n",
       "    </tr>\n",
       "    <tr>\n",
       "      <th>1</th>\n",
       "      <td>logistic</td>\n",
       "      <td>(256,)</td>\n",
       "      <td>0.10000</td>\n",
       "      <td>0.855833</td>\n",
       "    </tr>\n",
       "    <tr>\n",
       "      <th>8</th>\n",
       "      <td>logistic</td>\n",
       "      <td>(128,)</td>\n",
       "      <td>0.00100</td>\n",
       "      <td>0.855333</td>\n",
       "    </tr>\n",
       "    <tr>\n",
       "      <th>20</th>\n",
       "      <td>relu</td>\n",
       "      <td>(128,)</td>\n",
       "      <td>0.00001</td>\n",
       "      <td>0.853333</td>\n",
       "    </tr>\n",
       "    <tr>\n",
       "      <th>2</th>\n",
       "      <td>logistic</td>\n",
       "      <td>(64, 64)</td>\n",
       "      <td>0.10000</td>\n",
       "      <td>0.850500</td>\n",
       "    </tr>\n",
       "    <tr>\n",
       "      <th>17</th>\n",
       "      <td>logistic</td>\n",
       "      <td>(256,)</td>\n",
       "      <td>0.00001</td>\n",
       "      <td>0.850333</td>\n",
       "    </tr>\n",
       "    <tr>\n",
       "      <th>23</th>\n",
       "      <td>relu</td>\n",
       "      <td>(64,)</td>\n",
       "      <td>0.00001</td>\n",
       "      <td>0.846500</td>\n",
       "    </tr>\n",
       "    <tr>\n",
       "      <th>21</th>\n",
       "      <td>relu</td>\n",
       "      <td>(256,)</td>\n",
       "      <td>0.00001</td>\n",
       "      <td>0.843833</td>\n",
       "    </tr>\n",
       "    <tr>\n",
       "      <th>13</th>\n",
       "      <td>relu</td>\n",
       "      <td>(256,)</td>\n",
       "      <td>0.00100</td>\n",
       "      <td>0.843667</td>\n",
       "    </tr>\n",
       "    <tr>\n",
       "      <th>16</th>\n",
       "      <td>logistic</td>\n",
       "      <td>(128,)</td>\n",
       "      <td>0.00001</td>\n",
       "      <td>0.839500</td>\n",
       "    </tr>\n",
       "  </tbody>\n",
       "</table>\n",
       "</div>"
      ],
      "text/plain": [
       "   activation     layer    alpha     score\n",
       "22       relu  (64, 64)  0.00001  0.886500\n",
       "0    logistic    (128,)  0.10000  0.886167\n",
       "6        relu  (64, 64)  0.10000  0.885000\n",
       "7        relu     (64,)  0.10000  0.883333\n",
       "4        relu    (128,)  0.10000  0.883167\n",
       "9    logistic    (256,)  0.00100  0.882500\n",
       "12       relu    (128,)  0.00100  0.882167\n",
       "14       relu  (64, 64)  0.00100  0.871000\n",
       "18   logistic  (64, 64)  0.00001  0.865167\n",
       "5        relu    (256,)  0.10000  0.862500\n",
       "11   logistic     (64,)  0.00100  0.861333\n",
       "10   logistic  (64, 64)  0.00100  0.860333\n",
       "19   logistic     (64,)  0.00001  0.859000\n",
       "3    logistic     (64,)  0.10000  0.857000\n",
       "15       relu     (64,)  0.00100  0.856500\n",
       "1    logistic    (256,)  0.10000  0.855833\n",
       "8    logistic    (128,)  0.00100  0.855333\n",
       "20       relu    (128,)  0.00001  0.853333\n",
       "2    logistic  (64, 64)  0.10000  0.850500\n",
       "17   logistic    (256,)  0.00001  0.850333\n",
       "23       relu     (64,)  0.00001  0.846500\n",
       "21       relu    (256,)  0.00001  0.843833\n",
       "13       relu    (256,)  0.00100  0.843667\n",
       "16   logistic    (128,)  0.00001  0.839500"
      ]
     },
     "execution_count": 46,
     "metadata": {},
     "output_type": "execute_result"
    }
   ],
   "source": [
    "df=pd.DataFrame(sc_10,columns=[\"activation\",\"layer\",\"alpha\",\"score\"]).sort_values(by=\"score\",ascending=False)\n",
    "df"
   ]
  },
  {
   "cell_type": "code",
   "execution_count": 47,
   "metadata": {},
   "outputs": [
    {
     "name": "stdout",
     "output_type": "stream",
     "text": [
      "              precision    recall  f1-score   support\n",
      "\n",
      "           0       0.87      0.89      0.88      2755\n",
      "           1       0.90      0.88      0.89      3245\n",
      "\n",
      "    accuracy                           0.89      6000\n",
      "   macro avg       0.89      0.89      0.89      6000\n",
      "weighted avg       0.89      0.89      0.89      6000\n",
      "\n"
     ]
    }
   ],
   "source": [
    "# Choose best Activation, Layer, Alpha\n",
    "np.random.seed(9)\n",
    "MLP2 = MLPClassifier(solver=\"lbfgs\", activation=best_activation,alpha=best_alpha, \n",
    "                     hidden_layer_sizes=best_layer,max_iter=500,random_state=9)\n",
    "MLP2.fit(X_train6, y_train)\n",
    "y_hatd_MLP2=MLP2.predict(X_dev6)\n",
    "print(classification_report(y_dev, y_hatd_MLP2))\n",
    "\n",
    "PREDICTIONS.append(y_hatd_MLP2)\n",
    "MODELS.append(MLP2)\n",
    "NAMES.append(\"MLP2\")\n",
    "XFILE.append((\"MLP2\",\"X_train6\",X_test6))"
   ]
  },
  {
   "cell_type": "markdown",
   "metadata": {},
   "source": [
    "## 4.1.7. MLP with multiple labels as input\n",
    "<a id=\"mlp2\"></a>\n",
    "Here we tried to make an experiment, an iterative neural network where, after each step, the input matrix is updated with the predictions of that step. The final output is the negative/positive dummy variable. The predictions that update the input matrix are the specific labels: toxic, obscene, insult, severe_toxic, identity_hate, threat.  \n",
    "Since these predictions are strongly correlated with the output variable (`negative`), we believed that they should cause an increase in the overall performance. However, we prove ourselves wrong. "
   ]
  },
  {
   "cell_type": "code",
   "execution_count": 48,
   "metadata": {},
   "outputs": [
    {
     "name": "stderr",
     "output_type": "stream",
     "text": [
      "C:\\Users\\Ospite\\anaconda3\\lib\\site-packages\\sklearn\\neural_network\\_multilayer_perceptron.py:470: ConvergenceWarning: lbfgs failed to converge (status=1):\n",
      "STOP: TOTAL NO. of ITERATIONS REACHED LIMIT.\n",
      "\n",
      "Increase the number of iterations (max_iter) or scale the data as shown in:\n",
      "    https://scikit-learn.org/stable/modules/preprocessing.html\n",
      "  self.n_iter_ = _check_optimize_result(\"lbfgs\", opt_res, self.max_iter)\n",
      "C:\\Users\\Ospite\\anaconda3\\lib\\site-packages\\sklearn\\neural_network\\_multilayer_perceptron.py:470: ConvergenceWarning: lbfgs failed to converge (status=1):\n",
      "STOP: TOTAL NO. of ITERATIONS REACHED LIMIT.\n",
      "\n",
      "Increase the number of iterations (max_iter) or scale the data as shown in:\n",
      "    https://scikit-learn.org/stable/modules/preprocessing.html\n",
      "  self.n_iter_ = _check_optimize_result(\"lbfgs\", opt_res, self.max_iter)\n"
     ]
    },
    {
     "name": "stdout",
     "output_type": "stream",
     "text": [
      "              precision    recall  f1-score   support\n",
      "\n",
      "           0       0.85      0.80      0.83      2755\n",
      "           1       0.84      0.88      0.86      3245\n",
      "\n",
      "    accuracy                           0.85      6000\n",
      "   macro avg       0.85      0.84      0.85      6000\n",
      "weighted avg       0.85      0.85      0.85      6000\n",
      "\n"
     ]
    }
   ],
   "source": [
    "np.random.seed(9)\n",
    "tr=[]\n",
    "de=[]\n",
    "te=[]\n",
    "td=[]\n",
    "z=[\"toxic\",\"obscene\",\"insult\",\"severe_toxic\",\"identity_hate\",\"threat\"]\n",
    "MLP3 = MLPClassifier(solver=\"lbfgs\", activation=best_activation,alpha=1e-5, \n",
    "                     hidden_layer_sizes=best_layer,max_iter=1000,random_state=9)\n",
    "\n",
    "def predict(clf,trainx,trainy,testx):\n",
    "    clf.fit(trainx,trainy)\n",
    "    testy=clf.predict(testx)\n",
    "    return testy\n",
    "\n",
    "for i in z:\n",
    "    tr.append(train[i])\n",
    "    de.append(dev[i])\n",
    "    te.append(test[i])\n",
    "    td.append(train_dev[i])\n",
    "    \n",
    "for i in range(len(z)):\n",
    "    z_hat=predict(MLP3,X_train6,tr[i],X_train_dev6)\n",
    "    z_hat1=z_hat[:train_size]\n",
    "    z_hat2=z_hat[train_size:]\n",
    "    z_hat1=np.asmatrix(z_hat1).T\n",
    "    z_hat2=np.asmatrix(z_hat2).T\n",
    "    if i==0:\n",
    "        hat1=z_hat1\n",
    "        hat2=z_hat2\n",
    "    else:\n",
    "        hat1=np.concatenate((hat1,z_hat1),axis=1)\n",
    "        hat2=np.concatenate((hat2,z_hat2),axis=1)\n",
    "\n",
    "X_train7=sparse.hstack([X_train6,hat1])\n",
    "X_dev7=sparse.hstack([X_dev6,hat2])\n",
    "MLP3.fit(X_train7, y_train)\n",
    "y_hatd_MLP3=MLP3.predict(X_dev7)\n",
    "print(classification_report(y_dev, y_hatd_MLP3))\n",
    "\n",
    "PREDICTIONS.append(y_hatd_MLP3)\n",
    "MODELS.append(MLP3)\n",
    "NAMES.append(\"MLP3\")\n",
    "XFILE.append((\"MLP3\",\"X_train7\",\"NO\"))"
   ]
  },
  {
   "cell_type": "markdown",
   "metadata": {},
   "source": [
    "## 4.1.8. Convolutional NN \n",
    "<a id=\"cnn\"></a>\n",
    "Finally we ran a CNN with a double dropout, to avoid overfitting, and the sigmoid activation function for the last layer, because it seems to lead the best performance. The tuning of the CNN parameters isn't marked as code because it's super slow. "
   ]
  },
  {
   "cell_type": "code",
   "execution_count": 49,
   "metadata": {},
   "outputs": [],
   "source": [
    "def create_model(num_filters, kernel_size, vocab_size, embedding_dim, maxlen,hidden_layer):\n",
    "    model = Sequential()\n",
    "    model.add(layers.Embedding(vocab_size, embedding_dim, input_length=maxlen))\n",
    "    model.add(layers.Conv1D(num_filters, kernel_size, activation='relu'))\n",
    "    model.add(layers.GlobalMaxPooling1D())\n",
    "    model.add(layers.Dropout(0.2))\n",
    "    model.add(layers.Dense(hidden_layer, activation='relu'))\n",
    "    model.add(layers.Dropout(0.2))\n",
    "    model.add(layers.Dense(1, activation='sigmoid'))\n",
    "    model.compile(optimizer='adam',loss='binary_crossentropy',metrics=['accuracy'])\n",
    "    return model\n",
    "\n",
    "def plot_history(history):\n",
    "    acc = history.history['accuracy']\n",
    "    val_acc = history.history['val_accuracy']\n",
    "    loss = history.history['loss']\n",
    "    val_loss = history.history['val_loss']\n",
    "    x = range(1, len(acc) + 1)\n",
    "\n",
    "    plt.figure(figsize=(12, 5))\n",
    "    plt.subplot(1, 2, 1)\n",
    "    plt.plot(x, acc, 'b', label='Training acc')\n",
    "    plt.plot(x, val_acc, 'r', label='Validation acc')\n",
    "    plt.title('Training and validation accuracy')\n",
    "    plt.legend()\n",
    "    plt.subplot(1, 2, 2)\n",
    "    plt.plot(x, loss, 'b', label='Training loss')\n",
    "    plt.plot(x, val_loss, 'r', label='Validation loss')\n",
    "    plt.title('Training and validation loss')\n",
    "    plt.legend()\n",
    "    return plt.show()"
   ]
  },
  {
   "cell_type": "code",
   "execution_count": 50,
   "metadata": {},
   "outputs": [],
   "source": [
    "X_trainn=train[best_input_nn].values\n",
    "X_devv=dev[best_input_nn].values\n",
    "X_testt=test[best_input_nn].values\n",
    "\n",
    "tokenizer = text.Tokenizer(num_words=20000)\n",
    "tokenizer.fit_on_texts(X_trainn)\n",
    "X_train8 = tokenizer.texts_to_sequences(X_trainn)\n",
    "X_dev8 = tokenizer.texts_to_sequences(X_devv)\n",
    "X_test8 = tokenizer.texts_to_sequences(X_testt)\n",
    "\n",
    "vocab_size = len(tokenizer.word_index) + 1\n",
    "X_train9 = sequence.pad_sequences(X_train8, maxlen=100)\n",
    "X_dev9 = sequence.pad_sequences(X_dev8, maxlen=100)\n",
    "X_test9 = sequence.pad_sequences(X_test8, maxlen=100)"
   ]
  },
  {
   "cell_type": "raw",
   "metadata": {},
   "source": [
    "# Choosing best CNN parameters (slow)\n",
    "num_filters1, kernel_size1, vocab_size, embedding_dim1, maxlen,hidden_layer1=[32, 64],[3,5],20000,[50,100],100,[10,20]\n",
    "d={}\n",
    "np.random.seed(9)\n",
    "for num_filters in num_filters1:\n",
    "    for kernel_size in kernel_size1:\n",
    "        for embedding_dim in embedding_dim1:\n",
    "            for hidden_layer in hidden_layer1:\n",
    "                print(num_filters,kernel_size,embedding_dim,hidden_layer)\n",
    "                model=create_model(num_filters, kernel_size, vocab_size, embedding_dim, maxlen,hidden_layer)\n",
    "                hist=model.fit(X_train, y_train, batch_size=32, epochs=4,validation_data=(X_dev, y_dev))\n",
    "                df1 = pd.DataFrame(hist.history)\n",
    "                e1=df1[\"val_accuracy\"].max()\n",
    "                st=str((num_filters,kernel_size,embedding_dim,hidden_layer))\n",
    "                d[st]=e1\n",
    "\n",
    "df2=pd.DataFrame(data=d.values(),index=d.keys())\n",
    "df2.sort_values(by=0,ascending=False)"
   ]
  },
  {
   "cell_type": "code",
   "execution_count": 51,
   "metadata": {},
   "outputs": [
    {
     "name": "stderr",
     "output_type": "stream",
     "text": [
      "C:\\Users\\Ospite\\anaconda3\\lib\\site-packages\\tensorflow_core\\python\\framework\\indexed_slices.py:424: UserWarning: Converting sparse IndexedSlices to a dense Tensor of unknown shape. This may consume a large amount of memory.\n",
      "  \"Converting sparse IndexedSlices to a dense Tensor of unknown shape. \"\n"
     ]
    },
    {
     "name": "stdout",
     "output_type": "stream",
     "text": [
      "Train on 18000 samples, validate on 6000 samples\n",
      "Epoch 1/6\n",
      "18000/18000 [==============================] - 33s 2ms/step - loss: 0.3647 - accuracy: 0.8281 - val_loss: 0.2440 - val_accuracy: 0.8963\n",
      "Epoch 2/6\n",
      "18000/18000 [==============================] - 33s 2ms/step - loss: 0.1805 - accuracy: 0.9342 - val_loss: 0.2471 - val_accuracy: 0.9022\n",
      "Epoch 3/6\n",
      "18000/18000 [==============================] - 33s 2ms/step - loss: 0.1128 - accuracy: 0.9623 - val_loss: 0.2923 - val_accuracy: 0.8985\n",
      "Epoch 4/6\n",
      "18000/18000 [==============================] - 33s 2ms/step - loss: 0.0698 - accuracy: 0.9781 - val_loss: 0.3694 - val_accuracy: 0.8898\n",
      "Epoch 5/6\n",
      "18000/18000 [==============================] - 33s 2ms/step - loss: 0.0466 - accuracy: 0.9852 - val_loss: 0.3887 - val_accuracy: 0.8903\n",
      "Epoch 6/6\n",
      "18000/18000 [==============================] - 33s 2ms/step - loss: 0.0318 - accuracy: 0.9904 - val_loss: 0.4856 - val_accuracy: 0.8875\n"
     ]
    },
    {
     "data": {
      "image/png": "[encoded data removed]",
      "text/plain": [
       "<Figure size 864x360 with 2 Axes>"
      ]
     },
     "metadata": {},
     "output_type": "display_data"
    }
   ],
   "source": [
    "# Only 6 Iterations: we found out, after many runs, that after 6 epochs the performance decreases due to overfitting \n",
    "np.random.seed(9)\n",
    "num_filters, kernel_size, vocab_size, embedding_dim, maxlen,hidden_layer=64,3,20000,100,100,10\n",
    "CNN=create_model(num_filters, kernel_size, vocab_size, embedding_dim, maxlen,hidden_layer)\n",
    "hist6=CNN.fit(X_train9, y_train, batch_size=32, epochs=6,validation_data=(X_dev9, y_dev))\n",
    "plot_history(hist6)"
   ]
  },
  {
   "cell_type": "code",
   "execution_count": 52,
   "metadata": {},
   "outputs": [
    {
     "name": "stdout",
     "output_type": "stream",
     "text": [
      "6000/6000 [==============================] - 0s 42us/step\n",
      "              precision    recall  f1-score   support\n",
      "\n",
      "           0       0.90      0.85      0.87      2755\n",
      "           1       0.88      0.92      0.90      3245\n",
      "\n",
      "    accuracy                           0.89      6000\n",
      "   macro avg       0.89      0.88      0.89      6000\n",
      "weighted avg       0.89      0.89      0.89      6000\n",
      "\n"
     ]
    }
   ],
   "source": [
    "y_hatd_CNN=CNN.predict(X_dev9, verbose=1)\n",
    "y_hatd_CNN[y_hatd_CNN>0.5]=1\n",
    "y_hatd_CNN[y_hatd_CNN<=0.5]=0\n",
    "y_hatd_CNN.astype(int)\n",
    "print(classification_report(y_dev, y_hatd_CNN))\n",
    "\n",
    "PREDICTIONS.append(y_hatd_CNN)\n",
    "MODELS.append(CNN)\n",
    "NAMES.append(\"CNN\")\n",
    "XFILE.append((\"CNN\",\"X_train9\",X_test9))"
   ]
  },
  {
   "cell_type": "markdown",
   "metadata": {},
   "source": [
    "## 4.1.9. Best Classifier\n",
    "<a id=\"recap\"></a>\n"
   ]
  },
  {
   "cell_type": "code",
   "execution_count": 53,
   "metadata": {},
   "outputs": [
    {
     "name": "stdout",
     "output_type": "stream",
     "text": [
      "['Logit_BEST', 'Logit1', 'Logit2', 'SVM_BEST', 'MLP2', 'MLP3', 'CNN']\n"
     ]
    },
    {
     "data": {
      "text/html": [
       "<div>\n",
       "<style scoped>\n",
       "    .dataframe tbody tr th:only-of-type {\n",
       "        vertical-align: middle;\n",
       "    }\n",
       "\n",
       "    .dataframe tbody tr th {\n",
       "        vertical-align: top;\n",
       "    }\n",
       "\n",
       "    .dataframe thead th {\n",
       "        text-align: right;\n",
       "    }\n",
       "</style>\n",
       "<table border=\"1\" class=\"dataframe\">\n",
       "  <thead>\n",
       "    <tr style=\"text-align: right;\">\n",
       "      <th></th>\n",
       "      <th>Classifier</th>\n",
       "      <th>f1_micro</th>\n",
       "      <th>f1_macro</th>\n",
       "      <th>precision_micro</th>\n",
       "      <th>precision_macro</th>\n",
       "      <th>recall_micro</th>\n",
       "      <th>recall_macro</th>\n",
       "      <th>y_hatd</th>\n",
       "      <th>models</th>\n",
       "      <th>X_test</th>\n",
       "    </tr>\n",
       "  </thead>\n",
       "  <tbody>\n",
       "    <tr>\n",
       "      <th>0</th>\n",
       "      <td>Logit_BEST</td>\n",
       "      <td>0.896333</td>\n",
       "      <td>0.896156</td>\n",
       "      <td>0.896333</td>\n",
       "      <td>0.896293</td>\n",
       "      <td>0.896333</td>\n",
       "      <td>0.898953</td>\n",
       "      <td>[1, 1, 0, 1, 0, 1, 1, 1, 1, 0, 0, 0, 1, 1, 0, ...</td>\n",
       "      <td>LogisticRegression(C=5, class_weight='balanced...</td>\n",
       "      <td>X_train2</td>\n",
       "    </tr>\n",
       "    <tr>\n",
       "      <th>1</th>\n",
       "      <td>SVM_BEST</td>\n",
       "      <td>0.895667</td>\n",
       "      <td>0.895531</td>\n",
       "      <td>0.895667</td>\n",
       "      <td>0.896098</td>\n",
       "      <td>0.895667</td>\n",
       "      <td>0.898721</td>\n",
       "      <td>[1, 1, 0, 1, 0, 1, 1, 1, 1, 0, 0, 0, 1, 1, 0, ...</td>\n",
       "      <td>SVC(C=1, break_ties=False, cache_size=200, cla...</td>\n",
       "      <td>X_train_sel</td>\n",
       "    </tr>\n",
       "    <tr>\n",
       "      <th>2</th>\n",
       "      <td>CNN</td>\n",
       "      <td>0.887500</td>\n",
       "      <td>0.886242</td>\n",
       "      <td>0.887500</td>\n",
       "      <td>0.888681</td>\n",
       "      <td>0.887500</td>\n",
       "      <td>0.884813</td>\n",
       "      <td>[[1.0], [1.0], [0.0], [1.0], [0.0], [1.0], [1....</td>\n",
       "      <td>&lt;keras.engine.sequential.Sequential object at ...</td>\n",
       "      <td>X_train9</td>\n",
       "    </tr>\n",
       "    <tr>\n",
       "      <th>3</th>\n",
       "      <td>MLP2</td>\n",
       "      <td>0.886500</td>\n",
       "      <td>0.885960</td>\n",
       "      <td>0.886500</td>\n",
       "      <td>0.885422</td>\n",
       "      <td>0.886500</td>\n",
       "      <td>0.886793</td>\n",
       "      <td>[1, 1, 0, 1, 0, 1, 1, 1, 1, 0, 0, 0, 1, 1, 0, ...</td>\n",
       "      <td>MLPClassifier(activation='relu', alpha=1e-05, ...</td>\n",
       "      <td>X_train6</td>\n",
       "    </tr>\n",
       "    <tr>\n",
       "      <th>4</th>\n",
       "      <td>MLP3</td>\n",
       "      <td>0.846833</td>\n",
       "      <td>0.845020</td>\n",
       "      <td>0.846833</td>\n",
       "      <td>0.847639</td>\n",
       "      <td>0.846833</td>\n",
       "      <td>0.843626</td>\n",
       "      <td>[1, 1, 0, 1, 0, 1, 1, 1, 1, 0, 0, 0, 1, 1, 0, ...</td>\n",
       "      <td>MLPClassifier(activation='relu', alpha=1e-05, ...</td>\n",
       "      <td>X_train7</td>\n",
       "    </tr>\n",
       "    <tr>\n",
       "      <th>5</th>\n",
       "      <td>Logit2</td>\n",
       "      <td>0.747333</td>\n",
       "      <td>0.742257</td>\n",
       "      <td>0.747333</td>\n",
       "      <td>0.749071</td>\n",
       "      <td>0.747333</td>\n",
       "      <td>0.740814</td>\n",
       "      <td>[1, 1, 1, 1, 0, 1, 1, 1, 1, 1, 1, 0, 1, 1, 0, ...</td>\n",
       "      <td>LogisticRegression(C=1.0, class_weight='balanc...</td>\n",
       "      <td>X_train26</td>\n",
       "    </tr>\n",
       "    <tr>\n",
       "      <th>6</th>\n",
       "      <td>Logit1</td>\n",
       "      <td>0.735667</td>\n",
       "      <td>0.723673</td>\n",
       "      <td>0.735667</td>\n",
       "      <td>0.750049</td>\n",
       "      <td>0.735667</td>\n",
       "      <td>0.723478</td>\n",
       "      <td>[1, 1, 1, 1, 0, 1, 1, 1, 1, 1, 1, 0, 1, 1, 0, ...</td>\n",
       "      <td>LogisticRegression(C=1.0, class_weight=None, d...</td>\n",
       "      <td>X_train26</td>\n",
       "    </tr>\n",
       "  </tbody>\n",
       "</table>\n",
       "</div>"
      ],
      "text/plain": [
       "   Classifier  f1_micro  f1_macro  precision_micro  precision_macro  \\\n",
       "0  Logit_BEST  0.896333  0.896156         0.896333         0.896293   \n",
       "1    SVM_BEST  0.895667  0.895531         0.895667         0.896098   \n",
       "2         CNN  0.887500  0.886242         0.887500         0.888681   \n",
       "3        MLP2  0.886500  0.885960         0.886500         0.885422   \n",
       "4        MLP3  0.846833  0.845020         0.846833         0.847639   \n",
       "5      Logit2  0.747333  0.742257         0.747333         0.749071   \n",
       "6      Logit1  0.735667  0.723673         0.735667         0.750049   \n",
       "\n",
       "   recall_micro  recall_macro  \\\n",
       "0      0.896333      0.898953   \n",
       "1      0.895667      0.898721   \n",
       "2      0.887500      0.884813   \n",
       "3      0.886500      0.886793   \n",
       "4      0.846833      0.843626   \n",
       "5      0.747333      0.740814   \n",
       "6      0.735667      0.723478   \n",
       "\n",
       "                                              y_hatd  \\\n",
       "0  [1, 1, 0, 1, 0, 1, 1, 1, 1, 0, 0, 0, 1, 1, 0, ...   \n",
       "1  [1, 1, 0, 1, 0, 1, 1, 1, 1, 0, 0, 0, 1, 1, 0, ...   \n",
       "2  [[1.0], [1.0], [0.0], [1.0], [0.0], [1.0], [1....   \n",
       "3  [1, 1, 0, 1, 0, 1, 1, 1, 1, 0, 0, 0, 1, 1, 0, ...   \n",
       "4  [1, 1, 0, 1, 0, 1, 1, 1, 1, 0, 0, 0, 1, 1, 0, ...   \n",
       "5  [1, 1, 1, 1, 0, 1, 1, 1, 1, 1, 1, 0, 1, 1, 0, ...   \n",
       "6  [1, 1, 1, 1, 0, 1, 1, 1, 1, 1, 1, 0, 1, 1, 0, ...   \n",
       "\n",
       "                                              models       X_test  \n",
       "0  LogisticRegression(C=5, class_weight='balanced...     X_train2  \n",
       "1  SVC(C=1, break_ties=False, cache_size=200, cla...  X_train_sel  \n",
       "2  <keras.engine.sequential.Sequential object at ...     X_train9  \n",
       "3  MLPClassifier(activation='relu', alpha=1e-05, ...     X_train6  \n",
       "4  MLPClassifier(activation='relu', alpha=1e-05, ...     X_train7  \n",
       "5  LogisticRegression(C=1.0, class_weight='balanc...    X_train26  \n",
       "6  LogisticRegression(C=1.0, class_weight=None, d...    X_train26  "
      ]
     },
     "metadata": {},
     "output_type": "display_data"
    },
    {
     "name": "stdout",
     "output_type": "stream",
     "text": [
      "SVM_BEST\n",
      "X_train_sel\n"
     ]
    }
   ],
   "source": [
    "print(NAMES)\n",
    "assert len(PREDICTIONS)==len(NAMES)==len(MODELS)\n",
    "xfiles = [XFILE[j][1] for j in range(len(XFILE)) for i in range(len(NAMES)) if XFILE[j][0] == NAMES[i] ]\n",
    "\n",
    "f1 = pd.DataFrame()\n",
    "f1[\"Classifier\"] = NAMES\n",
    "f1[\"f1_micro\"] = [f1_score(y_dev, i, average='micro') for i in PREDICTIONS]\n",
    "f1[\"f1_macro\"] = [f1_score(y_dev, i, average='macro') for i in PREDICTIONS]\n",
    "f1[\"precision_micro\"] = [precision_score(y_dev, i, average='micro') for i in PREDICTIONS]\n",
    "f1[\"precision_macro\"] = [precision_score(y_dev, i, average='macro') for i in PREDICTIONS]\n",
    "f1[\"recall_micro\"] = [recall_score(y_dev, i, average='micro') for i in PREDICTIONS]\n",
    "f1[\"recall_macro\"] = [recall_score(y_dev, i, average='macro') for i in PREDICTIONS]\n",
    "f1[\"y_hatd\"] = PREDICTIONS\n",
    "f1[\"models\"] = MODELS\n",
    "f1['X_test'] = xfiles\n",
    "f1 = f1[~f1['Classifier'].apply(tuple).duplicated()]\n",
    "f1 = f1.sort_values(by=\"f1_micro\",ascending=False,ignore_index=True)\n",
    "\n",
    "for i in range(len(f1)):\n",
    "    if f1.Classifier[i] not in ['Logit1', 'Logit2']:\n",
    "        Classifier_BEST = f1.models[i] \n",
    "        y_hatd_Classifier_BEST = f1.y_hatd[i]\n",
    "        name_Classifier_BEST = f1.Classifier[i]\n",
    "        xfile_Classifier_BEST = f1.X_test[i]\n",
    "        break\n",
    "    else: \n",
    "        i+=1\n",
    "\n",
    "\n",
    "display(f1)\n",
    "X_TEST_Classifier_BEST = [XFILE[j][2] for j in range(len(XFILE)) if XFILE[j][0] == name_Classifier_BEST][0]"
   ]
  },
  {
   "cell_type": "markdown",
   "metadata": {},
   "source": [
    "## 4.1.10. Bootstrap sampling significance tests\n",
    "<a id=\"boot\"></a>\n",
    "Performance between your **best model** and each of the two baselines (y_hatd_dummy, y_hatd_Logit_BEST):"
   ]
  },
  {
   "cell_type": "code",
   "execution_count": 54,
   "metadata": {},
   "outputs": [
    {
     "name": "stdout",
     "output_type": "stream",
     "text": [
      "0.0 True\n",
      "0.8956666666666667 0.5408333333333334\n"
     ]
    }
   ],
   "source": [
    "# BEST MODEL vs. DUMMY CLASSIFIER\n",
    "p_value1, deltas1 = bootstrap_sample(y_hatd_Classifier_BEST, y_hatd_dummy, y_dev, samples=1000,\n",
    "                                     score=f1_score, average='micro')\n",
    "print(p_value1, p_value1 < 0.01)\n",
    "print(f1_score(y_dev, y_hatd_Classifier_BEST, average='micro'), f1_score(y_dev, y_hatd_dummy, average='micro'))"
   ]
  },
  {
   "cell_type": "code",
   "execution_count": 55,
   "metadata": {},
   "outputs": [
    {
     "data": {
      "image/png": "[encoded data removed]",
      "text/plain": [
       "<Figure size 432x288 with 1 Axes>"
      ]
     },
     "metadata": {
      "needs_background": "light"
     },
     "output_type": "display_data"
    }
   ],
   "source": [
    "%matplotlib inline\n",
    "pd.Series(deltas1).plot.hist(bins=20)\n",
    "plt.show()"
   ]
  },
  {
   "cell_type": "code",
   "execution_count": 56,
   "metadata": {},
   "outputs": [
    {
     "name": "stdout",
     "output_type": "stream",
     "text": [
      "0.0 True\n",
      "0.8956666666666667 0.8856666666666667\n"
     ]
    }
   ],
   "source": [
    "# BEST MODEL vs. LOGISTIC REGRESSION\n",
    "try:\n",
    "    p_value2, deltas2 = bootstrap_sample(y_hatd_Classifier_BEST, y_hatd_Logit, y_dev, samples=1000, score=f1_score, average='micro')\n",
    "    print(p_value2, p_value2 < 0.01)\n",
    "    print(f1_score(y_dev, y_hatd_Classifier_BEST, average='micro'), f1_score(y_dev, y_hatd_Logit, average='micro'))\n",
    "except:\n",
    "    print(\"best model is still logistic\")\n",
    "    p_value2, deltas2 = bootstrap_sample( y_hatd_Logit,y_hatd_Classifier_BEST, y_dev, samples=1000, score=f1_score, average='micro')\n",
    "    print(p_value2, p_value2 < 0.01)\n",
    "    print(f1_score(y_dev, y_hatd_Logit, average='micro'),f1_score(y_dev, y_hatd_Classifier_BEST, average='micro'))"
   ]
  },
  {
   "cell_type": "code",
   "execution_count": 57,
   "metadata": {},
   "outputs": [
    {
     "data": {
      "image/png": "[encoded data removed]",
      "text/plain": [
       "<Figure size 432x288 with 1 Axes>"
      ]
     },
     "metadata": {
      "needs_background": "light"
     },
     "output_type": "display_data"
    }
   ],
   "source": [
    "pd.Series(deltas2).plot.hist(bins=20)\n",
    "plt.show()"
   ]
  },
  {
   "cell_type": "code",
   "execution_count": 60,
   "metadata": {},
   "outputs": [
    {
     "name": "stdout",
     "output_type": "stream",
     "text": [
      "The Classifier_BEST needs the X_test paired with: X_train_sel\n",
      "0.8915 0.887\n"
     ]
    }
   ],
   "source": [
    "# FINALLY: TEST set \n",
    "print(\"The Classifier_BEST needs the X_test paired with: {}\".format(xfile_Classifier_BEST))\n",
    "y_hatt_dummy = dummy.predict(X_test)\n",
    "y_hatt_Logit = Logit.predict(X_test1)\n",
    "\n",
    "y_hatt_Classifier_BEST = Classifier_BEST.predict(X_TEST_Classifier_BEST)\n",
    "\n",
    "#print(\"BEST: {} | Test Score: {}\".format(name_Classifier_BEST, f1_score(y_test, y_hatt_Classifier_BEST, average='micro')))\n",
    "#print(\"Logit | Test Score: {}\".format(f1_score(y_test, y_hatt_Logit, average='micro')))\n",
    "#print(\"Dummy | Test Score: {}\".format(f1_score(y_test, y_hatt_dummy, average='micro')))"
   ]
  }
 ],
 "metadata": {
  "kernelspec": {
   "display_name": "Python 3",
   "language": "python",
   "name": "python3"
  },
  "language_info": {
   "codemirror_mode": {
    "name": "ipython",
    "version": 3
   },
   "file_extension": ".py",
   "mimetype": "text/x-python",
   "name": "python",
   "nbconvert_exporter": "python",
   "pygments_lexer": "ipython3",
   "version": "3.7.6"
  }
 },
 "nbformat": 4,
 "nbformat_minor": 2
}
